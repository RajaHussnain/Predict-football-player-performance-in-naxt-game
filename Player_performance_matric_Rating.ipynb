{
  "nbformat": 4,
  "nbformat_minor": 0,
  "metadata": {
    "colab": {
      "provenance": [],
      "collapsed_sections": [
        "T-9BwUUOu4r9",
        "sClcBEN3u9pW",
        "zCepri0SvJUF",
        "92_YH_PPvXYP",
        "38CGUfenVo3F",
        "Fzu3HWsjWn3O",
        "7P-eVI1tvpLf",
        "4eikYv7Zv_iF",
        "TCTGwqWkwqEs",
        "gyHCGCIew-WA",
        "gxtU_R6LW0Mw"
      ]
    },
    "kernelspec": {
      "name": "python3",
      "display_name": "Python 3"
    },
    "language_info": {
      "name": "python"
    }
  },
  "cells": [
    {
      "cell_type": "markdown",
      "source": [
        "# Player performance matric"
      ],
      "metadata": {
        "id": "A8wSIC3Yzlld"
      }
    },
    {
      "cell_type": "markdown",
      "source": [
        "### Import libraries"
      ],
      "metadata": {
        "id": "T-9BwUUOu4r9"
      }
    },
    {
      "cell_type": "code",
      "execution_count": 1,
      "metadata": {
        "id": "3zfJ2dvlzZUs"
      },
      "outputs": [],
      "source": [
        "import pandas as pd\n",
        "import matplotlib.pyplot as plt\n",
        "import numpy as np\n",
        "import seaborn as sns"
      ]
    },
    {
      "cell_type": "markdown",
      "source": [
        "### Load data:"
      ],
      "metadata": {
        "id": "sClcBEN3u9pW"
      }
    },
    {
      "cell_type": "code",
      "source": [
        "df = pd.read_csv('Final data.csv')\n",
        "df.drop(columns=df.columns[0], axis=1, inplace=True)"
      ],
      "metadata": {
        "id": "_ALUbf6o0ZSa"
      },
      "execution_count": 2,
      "outputs": []
    },
    {
      "cell_type": "code",
      "source": [
        "df.head()"
      ],
      "metadata": {
        "colab": {
          "base_uri": "https://localhost:8080/",
          "height": 0
        },
        "id": "dJOCeT8U0bTx",
        "outputId": "fe479045-33e5-4b14-94f2-048a0ed87794"
      },
      "execution_count": 3,
      "outputs": [
        {
          "output_type": "execute_result",
          "data": {
            "text/plain": [
              "                                                Name  Nationality  \\\n",
              "0  A Singular Tub of FazeBerry ® GFuel ® Energy F...    \"English\"   \n",
              "1                              Aleksandar Stojakovic    \"Serbian\"   \n",
              "2                                  Alessio Calvatore    \"Italian\"   \n",
              "3                                 Alfredo Puttanesca   \"Canadian\"   \n",
              "4                                   Andreas Aadnevik  \"Norwegian\"   \n",
              "\n",
              "             Club     Position  Apps  Minutes Played  Distance Run (km)  \\\n",
              "0  \"Athênai F.C.\"   \"WB/M (R)\"   1.0              90               13.2   \n",
              "1  \"Inter London\"  \"D (C). DM\"   1.0              90               11.4   \n",
              "2    \"Cairo City\"  \"DM. M (C)\"   1.0              90               10.9   \n",
              "3    \"Cairo City\"   \"WB/M (L)\"   1.0              90               13.0   \n",
              "4  \"Athênai F.C.\"     \"ST (C)\"   1.0              90               12.8   \n",
              "\n",
              "   Average Rating  Player of the Match  Goals  ...  Ref  TRO   Sta   Str  \\\n",
              "0             6.9                    0      1  ...  1.0  1.0  20.0  10.0   \n",
              "1             7.9                    0      1  ...  1.0  1.0  20.0  10.0   \n",
              "2             7.2                    0      0  ...  1.0  1.0  20.0  10.0   \n",
              "3             7.5                    0      1  ...  2.0  3.0  20.0  10.0   \n",
              "4             6.1                    0      0  ...  1.0  1.0  20.0  10.0   \n",
              "\n",
              "    Tck   Tea   Tec  Thr   Vis   Wor  \n",
              "0   8.0   9.0   9.0  1.0   9.0  10.0  \n",
              "1  13.0  11.0   5.0  1.0   5.0  12.0  \n",
              "2  10.0  12.0  13.0  1.0  11.0  12.0  \n",
              "3   9.0   7.0  10.0  2.0   7.0   8.0  \n",
              "4   5.0   8.0   5.0  1.0   5.0   8.0  \n",
              "\n",
              "[5 rows x 93 columns]"
            ],
            "text/html": [
              "\n",
              "  <div id=\"df-1bad48dc-7c77-4c07-8516-95cd0175a42b\">\n",
              "    <div class=\"colab-df-container\">\n",
              "      <div>\n",
              "<style scoped>\n",
              "    .dataframe tbody tr th:only-of-type {\n",
              "        vertical-align: middle;\n",
              "    }\n",
              "\n",
              "    .dataframe tbody tr th {\n",
              "        vertical-align: top;\n",
              "    }\n",
              "\n",
              "    .dataframe thead th {\n",
              "        text-align: right;\n",
              "    }\n",
              "</style>\n",
              "<table border=\"1\" class=\"dataframe\">\n",
              "  <thead>\n",
              "    <tr style=\"text-align: right;\">\n",
              "      <th></th>\n",
              "      <th>Name</th>\n",
              "      <th>Nationality</th>\n",
              "      <th>Club</th>\n",
              "      <th>Position</th>\n",
              "      <th>Apps</th>\n",
              "      <th>Minutes Played</th>\n",
              "      <th>Distance Run (km)</th>\n",
              "      <th>Average Rating</th>\n",
              "      <th>Player of the Match</th>\n",
              "      <th>Goals</th>\n",
              "      <th>...</th>\n",
              "      <th>Ref</th>\n",
              "      <th>TRO</th>\n",
              "      <th>Sta</th>\n",
              "      <th>Str</th>\n",
              "      <th>Tck</th>\n",
              "      <th>Tea</th>\n",
              "      <th>Tec</th>\n",
              "      <th>Thr</th>\n",
              "      <th>Vis</th>\n",
              "      <th>Wor</th>\n",
              "    </tr>\n",
              "  </thead>\n",
              "  <tbody>\n",
              "    <tr>\n",
              "      <th>0</th>\n",
              "      <td>A Singular Tub of FazeBerry ® GFuel ® Energy F...</td>\n",
              "      <td>\"English\"</td>\n",
              "      <td>\"Athênai F.C.\"</td>\n",
              "      <td>\"WB/M (R)\"</td>\n",
              "      <td>1.0</td>\n",
              "      <td>90</td>\n",
              "      <td>13.2</td>\n",
              "      <td>6.9</td>\n",
              "      <td>0</td>\n",
              "      <td>1</td>\n",
              "      <td>...</td>\n",
              "      <td>1.0</td>\n",
              "      <td>1.0</td>\n",
              "      <td>20.0</td>\n",
              "      <td>10.0</td>\n",
              "      <td>8.0</td>\n",
              "      <td>9.0</td>\n",
              "      <td>9.0</td>\n",
              "      <td>1.0</td>\n",
              "      <td>9.0</td>\n",
              "      <td>10.0</td>\n",
              "    </tr>\n",
              "    <tr>\n",
              "      <th>1</th>\n",
              "      <td>Aleksandar Stojakovic</td>\n",
              "      <td>\"Serbian\"</td>\n",
              "      <td>\"Inter London\"</td>\n",
              "      <td>\"D (C). DM\"</td>\n",
              "      <td>1.0</td>\n",
              "      <td>90</td>\n",
              "      <td>11.4</td>\n",
              "      <td>7.9</td>\n",
              "      <td>0</td>\n",
              "      <td>1</td>\n",
              "      <td>...</td>\n",
              "      <td>1.0</td>\n",
              "      <td>1.0</td>\n",
              "      <td>20.0</td>\n",
              "      <td>10.0</td>\n",
              "      <td>13.0</td>\n",
              "      <td>11.0</td>\n",
              "      <td>5.0</td>\n",
              "      <td>1.0</td>\n",
              "      <td>5.0</td>\n",
              "      <td>12.0</td>\n",
              "    </tr>\n",
              "    <tr>\n",
              "      <th>2</th>\n",
              "      <td>Alessio Calvatore</td>\n",
              "      <td>\"Italian\"</td>\n",
              "      <td>\"Cairo City\"</td>\n",
              "      <td>\"DM. M (C)\"</td>\n",
              "      <td>1.0</td>\n",
              "      <td>90</td>\n",
              "      <td>10.9</td>\n",
              "      <td>7.2</td>\n",
              "      <td>0</td>\n",
              "      <td>0</td>\n",
              "      <td>...</td>\n",
              "      <td>1.0</td>\n",
              "      <td>1.0</td>\n",
              "      <td>20.0</td>\n",
              "      <td>10.0</td>\n",
              "      <td>10.0</td>\n",
              "      <td>12.0</td>\n",
              "      <td>13.0</td>\n",
              "      <td>1.0</td>\n",
              "      <td>11.0</td>\n",
              "      <td>12.0</td>\n",
              "    </tr>\n",
              "    <tr>\n",
              "      <th>3</th>\n",
              "      <td>Alfredo Puttanesca</td>\n",
              "      <td>\"Canadian\"</td>\n",
              "      <td>\"Cairo City\"</td>\n",
              "      <td>\"WB/M (L)\"</td>\n",
              "      <td>1.0</td>\n",
              "      <td>90</td>\n",
              "      <td>13.0</td>\n",
              "      <td>7.5</td>\n",
              "      <td>0</td>\n",
              "      <td>1</td>\n",
              "      <td>...</td>\n",
              "      <td>2.0</td>\n",
              "      <td>3.0</td>\n",
              "      <td>20.0</td>\n",
              "      <td>10.0</td>\n",
              "      <td>9.0</td>\n",
              "      <td>7.0</td>\n",
              "      <td>10.0</td>\n",
              "      <td>2.0</td>\n",
              "      <td>7.0</td>\n",
              "      <td>8.0</td>\n",
              "    </tr>\n",
              "    <tr>\n",
              "      <th>4</th>\n",
              "      <td>Andreas Aadnevik</td>\n",
              "      <td>\"Norwegian\"</td>\n",
              "      <td>\"Athênai F.C.\"</td>\n",
              "      <td>\"ST (C)\"</td>\n",
              "      <td>1.0</td>\n",
              "      <td>90</td>\n",
              "      <td>12.8</td>\n",
              "      <td>6.1</td>\n",
              "      <td>0</td>\n",
              "      <td>0</td>\n",
              "      <td>...</td>\n",
              "      <td>1.0</td>\n",
              "      <td>1.0</td>\n",
              "      <td>20.0</td>\n",
              "      <td>10.0</td>\n",
              "      <td>5.0</td>\n",
              "      <td>8.0</td>\n",
              "      <td>5.0</td>\n",
              "      <td>1.0</td>\n",
              "      <td>5.0</td>\n",
              "      <td>8.0</td>\n",
              "    </tr>\n",
              "  </tbody>\n",
              "</table>\n",
              "<p>5 rows × 93 columns</p>\n",
              "</div>\n",
              "      <button class=\"colab-df-convert\" onclick=\"convertToInteractive('df-1bad48dc-7c77-4c07-8516-95cd0175a42b')\"\n",
              "              title=\"Convert this dataframe to an interactive table.\"\n",
              "              style=\"display:none;\">\n",
              "        \n",
              "  <svg xmlns=\"http://www.w3.org/2000/svg\" height=\"24px\"viewBox=\"0 0 24 24\"\n",
              "       width=\"24px\">\n",
              "    <path d=\"M0 0h24v24H0V0z\" fill=\"none\"/>\n",
              "    <path d=\"M18.56 5.44l.94 2.06.94-2.06 2.06-.94-2.06-.94-.94-2.06-.94 2.06-2.06.94zm-11 1L8.5 8.5l.94-2.06 2.06-.94-2.06-.94L8.5 2.5l-.94 2.06-2.06.94zm10 10l.94 2.06.94-2.06 2.06-.94-2.06-.94-.94-2.06-.94 2.06-2.06.94z\"/><path d=\"M17.41 7.96l-1.37-1.37c-.4-.4-.92-.59-1.43-.59-.52 0-1.04.2-1.43.59L10.3 9.45l-7.72 7.72c-.78.78-.78 2.05 0 2.83L4 21.41c.39.39.9.59 1.41.59.51 0 1.02-.2 1.41-.59l7.78-7.78 2.81-2.81c.8-.78.8-2.07 0-2.86zM5.41 20L4 18.59l7.72-7.72 1.47 1.35L5.41 20z\"/>\n",
              "  </svg>\n",
              "      </button>\n",
              "      \n",
              "  <style>\n",
              "    .colab-df-container {\n",
              "      display:flex;\n",
              "      flex-wrap:wrap;\n",
              "      gap: 12px;\n",
              "    }\n",
              "\n",
              "    .colab-df-convert {\n",
              "      background-color: #E8F0FE;\n",
              "      border: none;\n",
              "      border-radius: 50%;\n",
              "      cursor: pointer;\n",
              "      display: none;\n",
              "      fill: #1967D2;\n",
              "      height: 32px;\n",
              "      padding: 0 0 0 0;\n",
              "      width: 32px;\n",
              "    }\n",
              "\n",
              "    .colab-df-convert:hover {\n",
              "      background-color: #E2EBFA;\n",
              "      box-shadow: 0px 1px 2px rgba(60, 64, 67, 0.3), 0px 1px 3px 1px rgba(60, 64, 67, 0.15);\n",
              "      fill: #174EA6;\n",
              "    }\n",
              "\n",
              "    [theme=dark] .colab-df-convert {\n",
              "      background-color: #3B4455;\n",
              "      fill: #D2E3FC;\n",
              "    }\n",
              "\n",
              "    [theme=dark] .colab-df-convert:hover {\n",
              "      background-color: #434B5C;\n",
              "      box-shadow: 0px 1px 3px 1px rgba(0, 0, 0, 0.15);\n",
              "      filter: drop-shadow(0px 1px 2px rgba(0, 0, 0, 0.3));\n",
              "      fill: #FFFFFF;\n",
              "    }\n",
              "  </style>\n",
              "\n",
              "      <script>\n",
              "        const buttonEl =\n",
              "          document.querySelector('#df-1bad48dc-7c77-4c07-8516-95cd0175a42b button.colab-df-convert');\n",
              "        buttonEl.style.display =\n",
              "          google.colab.kernel.accessAllowed ? 'block' : 'none';\n",
              "\n",
              "        async function convertToInteractive(key) {\n",
              "          const element = document.querySelector('#df-1bad48dc-7c77-4c07-8516-95cd0175a42b');\n",
              "          const dataTable =\n",
              "            await google.colab.kernel.invokeFunction('convertToInteractive',\n",
              "                                                     [key], {});\n",
              "          if (!dataTable) return;\n",
              "\n",
              "          const docLinkHtml = 'Like what you see? Visit the ' +\n",
              "            '<a target=\"_blank\" href=https://colab.research.google.com/notebooks/data_table.ipynb>data table notebook</a>'\n",
              "            + ' to learn more about interactive tables.';\n",
              "          element.innerHTML = '';\n",
              "          dataTable['output_type'] = 'display_data';\n",
              "          await google.colab.output.renderOutput(dataTable, element);\n",
              "          const docLink = document.createElement('div');\n",
              "          docLink.innerHTML = docLinkHtml;\n",
              "          element.appendChild(docLink);\n",
              "        }\n",
              "      </script>\n",
              "    </div>\n",
              "  </div>\n",
              "  "
            ]
          },
          "metadata": {},
          "execution_count": 3
        }
      ]
    },
    {
      "cell_type": "markdown",
      "source": [
        "## Average Rating"
      ],
      "metadata": {
        "id": "lK7d2_Akz_6L"
      }
    },
    {
      "cell_type": "markdown",
      "source": [
        "### Data frame for Avg. rating"
      ],
      "metadata": {
        "id": "zCepri0SvJUF"
      }
    },
    {
      "cell_type": "markdown",
      "source": [
        "Data frame for Average rating - A grade given by FM for the player's overall performance in the game"
      ],
      "metadata": {
        "id": "wGkiKqeP0qs3"
      }
    },
    {
      "cell_type": "code",
      "source": [
        "df_rat = pd.DataFrame(df.iloc[: , 7].copy())\n",
        "temp = df.iloc[: , 46:93].copy()\n",
        "df_rat = df_rat.join(temp)"
      ],
      "metadata": {
        "id": "qY7U4ymC-zcq"
      },
      "execution_count": 4,
      "outputs": []
    },
    {
      "cell_type": "code",
      "source": [
        "df_rat = df_rat.dropna()"
      ],
      "metadata": {
        "id": "RsWUv3ImAMgy"
      },
      "execution_count": 5,
      "outputs": []
    },
    {
      "cell_type": "code",
      "source": [
        "#df_rat.isnull().sum()"
      ],
      "metadata": {
        "id": "CK8p3aTCAM2_"
      },
      "execution_count": 6,
      "outputs": []
    },
    {
      "cell_type": "code",
      "source": [
        "df_rat.head()"
      ],
      "metadata": {
        "colab": {
          "base_uri": "https://localhost:8080/",
          "height": 0
        },
        "id": "_UoN1dlHAM9g",
        "outputId": "3d517375-e054-4090-9d16-387fbdfc0c02"
      },
      "execution_count": 7,
      "outputs": [
        {
          "output_type": "execute_result",
          "data": {
            "text/plain": [
              "   Average Rating   Acc  Aer   Agg   Agi   Ant   Bal   Bra  Cmd  Com  ...  \\\n",
              "0             6.9  13.0  1.0   7.0  13.0  10.0  10.0   6.0  1.0  1.0  ...   \n",
              "1             7.9   7.0  1.0  10.0   5.0  12.0  10.0  11.0  1.0  1.0  ...   \n",
              "2             7.2  10.0  1.0   5.0   5.0   8.0  10.0   5.0  1.0  1.0  ...   \n",
              "3             7.5  11.0  1.0   5.0  12.0   8.0  11.0   6.0  4.0  3.0  ...   \n",
              "4             6.1  14.0  1.0   5.0  10.0  14.0   5.0   5.0  1.0  1.0  ...   \n",
              "\n",
              "   Ref  TRO   Sta   Str   Tck   Tea   Tec  Thr   Vis   Wor  \n",
              "0  1.0  1.0  20.0  10.0   8.0   9.0   9.0  1.0   9.0  10.0  \n",
              "1  1.0  1.0  20.0  10.0  13.0  11.0   5.0  1.0   5.0  12.0  \n",
              "2  1.0  1.0  20.0  10.0  10.0  12.0  13.0  1.0  11.0  12.0  \n",
              "3  2.0  3.0  20.0  10.0   9.0   7.0  10.0  2.0   7.0   8.0  \n",
              "4  1.0  1.0  20.0  10.0   5.0   8.0   5.0  1.0   5.0   8.0  \n",
              "\n",
              "[5 rows x 48 columns]"
            ],
            "text/html": [
              "\n",
              "  <div id=\"df-09cc3d6d-58fa-41ed-9558-73ad00060cd6\">\n",
              "    <div class=\"colab-df-container\">\n",
              "      <div>\n",
              "<style scoped>\n",
              "    .dataframe tbody tr th:only-of-type {\n",
              "        vertical-align: middle;\n",
              "    }\n",
              "\n",
              "    .dataframe tbody tr th {\n",
              "        vertical-align: top;\n",
              "    }\n",
              "\n",
              "    .dataframe thead th {\n",
              "        text-align: right;\n",
              "    }\n",
              "</style>\n",
              "<table border=\"1\" class=\"dataframe\">\n",
              "  <thead>\n",
              "    <tr style=\"text-align: right;\">\n",
              "      <th></th>\n",
              "      <th>Average Rating</th>\n",
              "      <th>Acc</th>\n",
              "      <th>Aer</th>\n",
              "      <th>Agg</th>\n",
              "      <th>Agi</th>\n",
              "      <th>Ant</th>\n",
              "      <th>Bal</th>\n",
              "      <th>Bra</th>\n",
              "      <th>Cmd</th>\n",
              "      <th>Com</th>\n",
              "      <th>...</th>\n",
              "      <th>Ref</th>\n",
              "      <th>TRO</th>\n",
              "      <th>Sta</th>\n",
              "      <th>Str</th>\n",
              "      <th>Tck</th>\n",
              "      <th>Tea</th>\n",
              "      <th>Tec</th>\n",
              "      <th>Thr</th>\n",
              "      <th>Vis</th>\n",
              "      <th>Wor</th>\n",
              "    </tr>\n",
              "  </thead>\n",
              "  <tbody>\n",
              "    <tr>\n",
              "      <th>0</th>\n",
              "      <td>6.9</td>\n",
              "      <td>13.0</td>\n",
              "      <td>1.0</td>\n",
              "      <td>7.0</td>\n",
              "      <td>13.0</td>\n",
              "      <td>10.0</td>\n",
              "      <td>10.0</td>\n",
              "      <td>6.0</td>\n",
              "      <td>1.0</td>\n",
              "      <td>1.0</td>\n",
              "      <td>...</td>\n",
              "      <td>1.0</td>\n",
              "      <td>1.0</td>\n",
              "      <td>20.0</td>\n",
              "      <td>10.0</td>\n",
              "      <td>8.0</td>\n",
              "      <td>9.0</td>\n",
              "      <td>9.0</td>\n",
              "      <td>1.0</td>\n",
              "      <td>9.0</td>\n",
              "      <td>10.0</td>\n",
              "    </tr>\n",
              "    <tr>\n",
              "      <th>1</th>\n",
              "      <td>7.9</td>\n",
              "      <td>7.0</td>\n",
              "      <td>1.0</td>\n",
              "      <td>10.0</td>\n",
              "      <td>5.0</td>\n",
              "      <td>12.0</td>\n",
              "      <td>10.0</td>\n",
              "      <td>11.0</td>\n",
              "      <td>1.0</td>\n",
              "      <td>1.0</td>\n",
              "      <td>...</td>\n",
              "      <td>1.0</td>\n",
              "      <td>1.0</td>\n",
              "      <td>20.0</td>\n",
              "      <td>10.0</td>\n",
              "      <td>13.0</td>\n",
              "      <td>11.0</td>\n",
              "      <td>5.0</td>\n",
              "      <td>1.0</td>\n",
              "      <td>5.0</td>\n",
              "      <td>12.0</td>\n",
              "    </tr>\n",
              "    <tr>\n",
              "      <th>2</th>\n",
              "      <td>7.2</td>\n",
              "      <td>10.0</td>\n",
              "      <td>1.0</td>\n",
              "      <td>5.0</td>\n",
              "      <td>5.0</td>\n",
              "      <td>8.0</td>\n",
              "      <td>10.0</td>\n",
              "      <td>5.0</td>\n",
              "      <td>1.0</td>\n",
              "      <td>1.0</td>\n",
              "      <td>...</td>\n",
              "      <td>1.0</td>\n",
              "      <td>1.0</td>\n",
              "      <td>20.0</td>\n",
              "      <td>10.0</td>\n",
              "      <td>10.0</td>\n",
              "      <td>12.0</td>\n",
              "      <td>13.0</td>\n",
              "      <td>1.0</td>\n",
              "      <td>11.0</td>\n",
              "      <td>12.0</td>\n",
              "    </tr>\n",
              "    <tr>\n",
              "      <th>3</th>\n",
              "      <td>7.5</td>\n",
              "      <td>11.0</td>\n",
              "      <td>1.0</td>\n",
              "      <td>5.0</td>\n",
              "      <td>12.0</td>\n",
              "      <td>8.0</td>\n",
              "      <td>11.0</td>\n",
              "      <td>6.0</td>\n",
              "      <td>4.0</td>\n",
              "      <td>3.0</td>\n",
              "      <td>...</td>\n",
              "      <td>2.0</td>\n",
              "      <td>3.0</td>\n",
              "      <td>20.0</td>\n",
              "      <td>10.0</td>\n",
              "      <td>9.0</td>\n",
              "      <td>7.0</td>\n",
              "      <td>10.0</td>\n",
              "      <td>2.0</td>\n",
              "      <td>7.0</td>\n",
              "      <td>8.0</td>\n",
              "    </tr>\n",
              "    <tr>\n",
              "      <th>4</th>\n",
              "      <td>6.1</td>\n",
              "      <td>14.0</td>\n",
              "      <td>1.0</td>\n",
              "      <td>5.0</td>\n",
              "      <td>10.0</td>\n",
              "      <td>14.0</td>\n",
              "      <td>5.0</td>\n",
              "      <td>5.0</td>\n",
              "      <td>1.0</td>\n",
              "      <td>1.0</td>\n",
              "      <td>...</td>\n",
              "      <td>1.0</td>\n",
              "      <td>1.0</td>\n",
              "      <td>20.0</td>\n",
              "      <td>10.0</td>\n",
              "      <td>5.0</td>\n",
              "      <td>8.0</td>\n",
              "      <td>5.0</td>\n",
              "      <td>1.0</td>\n",
              "      <td>5.0</td>\n",
              "      <td>8.0</td>\n",
              "    </tr>\n",
              "  </tbody>\n",
              "</table>\n",
              "<p>5 rows × 48 columns</p>\n",
              "</div>\n",
              "      <button class=\"colab-df-convert\" onclick=\"convertToInteractive('df-09cc3d6d-58fa-41ed-9558-73ad00060cd6')\"\n",
              "              title=\"Convert this dataframe to an interactive table.\"\n",
              "              style=\"display:none;\">\n",
              "        \n",
              "  <svg xmlns=\"http://www.w3.org/2000/svg\" height=\"24px\"viewBox=\"0 0 24 24\"\n",
              "       width=\"24px\">\n",
              "    <path d=\"M0 0h24v24H0V0z\" fill=\"none\"/>\n",
              "    <path d=\"M18.56 5.44l.94 2.06.94-2.06 2.06-.94-2.06-.94-.94-2.06-.94 2.06-2.06.94zm-11 1L8.5 8.5l.94-2.06 2.06-.94-2.06-.94L8.5 2.5l-.94 2.06-2.06.94zm10 10l.94 2.06.94-2.06 2.06-.94-2.06-.94-.94-2.06-.94 2.06-2.06.94z\"/><path d=\"M17.41 7.96l-1.37-1.37c-.4-.4-.92-.59-1.43-.59-.52 0-1.04.2-1.43.59L10.3 9.45l-7.72 7.72c-.78.78-.78 2.05 0 2.83L4 21.41c.39.39.9.59 1.41.59.51 0 1.02-.2 1.41-.59l7.78-7.78 2.81-2.81c.8-.78.8-2.07 0-2.86zM5.41 20L4 18.59l7.72-7.72 1.47 1.35L5.41 20z\"/>\n",
              "  </svg>\n",
              "      </button>\n",
              "      \n",
              "  <style>\n",
              "    .colab-df-container {\n",
              "      display:flex;\n",
              "      flex-wrap:wrap;\n",
              "      gap: 12px;\n",
              "    }\n",
              "\n",
              "    .colab-df-convert {\n",
              "      background-color: #E8F0FE;\n",
              "      border: none;\n",
              "      border-radius: 50%;\n",
              "      cursor: pointer;\n",
              "      display: none;\n",
              "      fill: #1967D2;\n",
              "      height: 32px;\n",
              "      padding: 0 0 0 0;\n",
              "      width: 32px;\n",
              "    }\n",
              "\n",
              "    .colab-df-convert:hover {\n",
              "      background-color: #E2EBFA;\n",
              "      box-shadow: 0px 1px 2px rgba(60, 64, 67, 0.3), 0px 1px 3px 1px rgba(60, 64, 67, 0.15);\n",
              "      fill: #174EA6;\n",
              "    }\n",
              "\n",
              "    [theme=dark] .colab-df-convert {\n",
              "      background-color: #3B4455;\n",
              "      fill: #D2E3FC;\n",
              "    }\n",
              "\n",
              "    [theme=dark] .colab-df-convert:hover {\n",
              "      background-color: #434B5C;\n",
              "      box-shadow: 0px 1px 3px 1px rgba(0, 0, 0, 0.15);\n",
              "      filter: drop-shadow(0px 1px 2px rgba(0, 0, 0, 0.3));\n",
              "      fill: #FFFFFF;\n",
              "    }\n",
              "  </style>\n",
              "\n",
              "      <script>\n",
              "        const buttonEl =\n",
              "          document.querySelector('#df-09cc3d6d-58fa-41ed-9558-73ad00060cd6 button.colab-df-convert');\n",
              "        buttonEl.style.display =\n",
              "          google.colab.kernel.accessAllowed ? 'block' : 'none';\n",
              "\n",
              "        async function convertToInteractive(key) {\n",
              "          const element = document.querySelector('#df-09cc3d6d-58fa-41ed-9558-73ad00060cd6');\n",
              "          const dataTable =\n",
              "            await google.colab.kernel.invokeFunction('convertToInteractive',\n",
              "                                                     [key], {});\n",
              "          if (!dataTable) return;\n",
              "\n",
              "          const docLinkHtml = 'Like what you see? Visit the ' +\n",
              "            '<a target=\"_blank\" href=https://colab.research.google.com/notebooks/data_table.ipynb>data table notebook</a>'\n",
              "            + ' to learn more about interactive tables.';\n",
              "          element.innerHTML = '';\n",
              "          dataTable['output_type'] = 'display_data';\n",
              "          await google.colab.output.renderOutput(dataTable, element);\n",
              "          const docLink = document.createElement('div');\n",
              "          docLink.innerHTML = docLinkHtml;\n",
              "          element.appendChild(docLink);\n",
              "        }\n",
              "      </script>\n",
              "    </div>\n",
              "  </div>\n",
              "  "
            ]
          },
          "metadata": {},
          "execution_count": 7
        }
      ]
    },
    {
      "cell_type": "code",
      "source": [
        "df_rat.shape"
      ],
      "metadata": {
        "colab": {
          "base_uri": "https://localhost:8080/"
        },
        "id": "-Z2nb1THWFLj",
        "outputId": "99f5a4ce-f1ac-4e3b-ae02-b7ad496d266a"
      },
      "execution_count": 8,
      "outputs": [
        {
          "output_type": "execute_result",
          "data": {
            "text/plain": [
              "(9415, 48)"
            ]
          },
          "metadata": {},
          "execution_count": 8
        }
      ]
    },
    {
      "cell_type": "markdown",
      "source": [
        "### Feature engineering:"
      ],
      "metadata": {
        "id": "92_YH_PPvXYP"
      }
    },
    {
      "cell_type": "code",
      "source": [
        "# Correlation of features with xG\n",
        "plt.figure(figsize=(10,10))\n",
        "sns.heatmap(df_rat.corr()[['Average Rating']], annot=True)\n",
        "plt.show()"
      ],
      "metadata": {
        "colab": {
          "base_uri": "https://localhost:8080/",
          "height": 0
        },
        "id": "wlot-f7ySGgo",
        "outputId": "df383d6f-4150-430e-fe41-14fada29f696"
      },
      "execution_count": 9,
      "outputs": [
        {
          "output_type": "display_data",
          "data": {
            "text/plain": [
              "<Figure size 720x720 with 2 Axes>"
            ],
            "image/png": "[encoded data removed]"
          },
          "metadata": {
            "needs_background": "light"
          }
        }
      ]
    },
    {
      "cell_type": "markdown",
      "source": [
        "### Splitting into the test set and training set"
      ],
      "metadata": {
        "id": "38CGUfenVo3F"
      }
    },
    {
      "cell_type": "code",
      "source": [
        "training_set = df_rat.iloc[:, :].values\n",
        "X = training_set[:, 1:48]\n",
        "y = training_set[:,0]"
      ],
      "metadata": {
        "id": "gWhVpspbVpnm"
      },
      "execution_count": 10,
      "outputs": []
    },
    {
      "cell_type": "code",
      "source": [
        "X.shape"
      ],
      "metadata": {
        "colab": {
          "base_uri": "https://localhost:8080/"
        },
        "id": "IbZYD6ymV0Fd",
        "outputId": "7ea3a021-2578-4c54-b65f-ac9b5429e6f3"
      },
      "execution_count": 11,
      "outputs": [
        {
          "output_type": "execute_result",
          "data": {
            "text/plain": [
              "(9415, 47)"
            ]
          },
          "metadata": {},
          "execution_count": 11
        }
      ]
    },
    {
      "cell_type": "code",
      "source": [
        "y.shape"
      ],
      "metadata": {
        "colab": {
          "base_uri": "https://localhost:8080/"
        },
        "id": "g2BAQQeXV2CB",
        "outputId": "f8597137-c7f2-4acc-c378-f5e8d3a57f0a"
      },
      "execution_count": 12,
      "outputs": [
        {
          "output_type": "execute_result",
          "data": {
            "text/plain": [
              "(9415,)"
            ]
          },
          "metadata": {},
          "execution_count": 12
        }
      ]
    },
    {
      "cell_type": "code",
      "source": [
        "from sklearn.model_selection import train_test_split\n",
        "\n",
        "X_train, X_test, y_train, y_test = train_test_split(X, y, test_size = 0.2, random_state = 0)"
      ],
      "metadata": {
        "id": "j-C4MhxKWdp7"
      },
      "execution_count": 13,
      "outputs": []
    },
    {
      "cell_type": "code",
      "source": [
        "X_train.shape"
      ],
      "metadata": {
        "colab": {
          "base_uri": "https://localhost:8080/"
        },
        "id": "wOMeDYnxWizP",
        "outputId": "7552dc3a-abdd-4798-db65-e10a08c178bb"
      },
      "execution_count": 14,
      "outputs": [
        {
          "output_type": "execute_result",
          "data": {
            "text/plain": [
              "(7532, 47)"
            ]
          },
          "metadata": {},
          "execution_count": 14
        }
      ]
    },
    {
      "cell_type": "code",
      "source": [
        "X_test.shape"
      ],
      "metadata": {
        "colab": {
          "base_uri": "https://localhost:8080/"
        },
        "id": "FTtahHsdWj8J",
        "outputId": "ed866dd3-4b49-44d0-fac3-495f33007cbd"
      },
      "execution_count": 15,
      "outputs": [
        {
          "output_type": "execute_result",
          "data": {
            "text/plain": [
              "(1883, 47)"
            ]
          },
          "metadata": {},
          "execution_count": 15
        }
      ]
    },
    {
      "cell_type": "markdown",
      "source": [
        "### Feature Scaling"
      ],
      "metadata": {
        "id": "Fzu3HWsjWn3O"
      }
    },
    {
      "cell_type": "code",
      "source": [
        "from sklearn.preprocessing import StandardScaler\n",
        "sc = StandardScaler()\n",
        "X_train = sc.fit_transform(X_train)\n",
        "X_test = sc.transform(X_test)"
      ],
      "metadata": {
        "id": "_m1EF2MAWobO"
      },
      "execution_count": 16,
      "outputs": []
    },
    {
      "cell_type": "markdown",
      "source": [
        "### Linear regression baseline model (mae: 0.422, rmse: 0.563)"
      ],
      "metadata": {
        "id": "7P-eVI1tvpLf"
      }
    },
    {
      "cell_type": "code",
      "source": [
        "from sklearn import datasets, linear_model, metrics\n",
        "from sklearn.metrics import mean_absolute_error\n",
        "from sklearn.metrics import mean_squared_error"
      ],
      "metadata": {
        "id": "fpZ0KEHKvrqV"
      },
      "execution_count": 21,
      "outputs": []
    },
    {
      "cell_type": "code",
      "source": [
        "# create linear regression object\n",
        "reg = linear_model.LinearRegression()"
      ],
      "metadata": {
        "id": "1YI846r9vuju"
      },
      "execution_count": 22,
      "outputs": []
    },
    {
      "cell_type": "code",
      "source": [
        "# train the model using the training sets\n",
        "reg.fit(X_train, y_train)"
      ],
      "metadata": {
        "colab": {
          "base_uri": "https://localhost:8080/"
        },
        "id": "1vK1D2C5vwZn",
        "outputId": "f1b8a0a9-d3a5-459c-d895-ae20804a7e9e"
      },
      "execution_count": 23,
      "outputs": [
        {
          "output_type": "execute_result",
          "data": {
            "text/plain": [
              "LinearRegression()"
            ]
          },
          "metadata": {},
          "execution_count": 23
        }
      ]
    },
    {
      "cell_type": "code",
      "source": [
        "# make predictions on the test set\n",
        "y_pred_reg = reg.predict(X_test)"
      ],
      "metadata": {
        "id": "tDqn1FiXvzDy"
      },
      "execution_count": 24,
      "outputs": []
    },
    {
      "cell_type": "code",
      "source": [
        "# RMSE\n",
        "mean_squared_error(y_test, y_pred_reg, squared=False)"
      ],
      "metadata": {
        "colab": {
          "base_uri": "https://localhost:8080/"
        },
        "id": "Y79KQyacv0p2",
        "outputId": "44798908-c724-42eb-f11e-e1468d99000a"
      },
      "execution_count": 25,
      "outputs": [
        {
          "output_type": "execute_result",
          "data": {
            "text/plain": [
              "0.5632607270686594"
            ]
          },
          "metadata": {},
          "execution_count": 25
        }
      ]
    },
    {
      "cell_type": "code",
      "source": [
        "mean_absolute_error(y_test, y_pred_reg)"
      ],
      "metadata": {
        "colab": {
          "base_uri": "https://localhost:8080/"
        },
        "id": "hb1RyJMmv2fO",
        "outputId": "067bb3a8-142d-4751-9961-7e1de0855195"
      },
      "execution_count": 26,
      "outputs": [
        {
          "output_type": "execute_result",
          "data": {
            "text/plain": [
              "0.4228728826856559"
            ]
          },
          "metadata": {},
          "execution_count": 26
        }
      ]
    },
    {
      "cell_type": "markdown",
      "source": [
        "### ANN simple (mae: 0.421, rmse: 0.569)"
      ],
      "metadata": {
        "id": "4eikYv7Zv_iF"
      }
    },
    {
      "cell_type": "code",
      "source": [
        "import keras\n",
        "from keras.models import Sequential\n",
        "from keras.layers import Dense\n",
        "from keras.layers import Dropout"
      ],
      "metadata": {
        "id": "prwV4bWmwB3K"
      },
      "execution_count": 27,
      "outputs": []
    },
    {
      "cell_type": "code",
      "source": [
        "regressor = Sequential()"
      ],
      "metadata": {
        "id": "vGEZKP2PwJjY"
      },
      "execution_count": 28,
      "outputs": []
    },
    {
      "cell_type": "code",
      "source": [
        "#adding the input layer and the first hidden layer with dropout\n",
        "regressor.add(Dense(units = 100, kernel_initializer = 'normal',activation = 'relu', input_dim =47))\n",
        "regressor.add(Dropout(0.01))"
      ],
      "metadata": {
        "id": "HRYge0QgwLqN"
      },
      "execution_count": 29,
      "outputs": []
    },
    {
      "cell_type": "code",
      "source": [
        "#adding the second hidden layer\n",
        "regressor.add(Dense(units = 100, kernel_initializer = 'normal',activation = 'relu'))\n",
        "regressor.add(Dropout(0.01))"
      ],
      "metadata": {
        "id": "DgfbsNKOwNRV"
      },
      "execution_count": 30,
      "outputs": []
    },
    {
      "cell_type": "code",
      "source": [
        "#adding a thrid hidden layer\n",
        "regressor.add(Dense(units = 100, kernel_initializer = 'normal',activation = 'relu'))\n",
        "regressor.add(Dropout(0.01))"
      ],
      "metadata": {
        "id": "Gc7cVv9FwO0b"
      },
      "execution_count": 31,
      "outputs": []
    },
    {
      "cell_type": "code",
      "source": [
        "#adding a fourth hidden layer\n",
        "regressor.add(Dense(units = 100, kernel_initializer = 'normal',activation = 'relu'))\n",
        "regressor.add(Dropout(0.01))"
      ],
      "metadata": {
        "id": "hZtNIv22wQQd"
      },
      "execution_count": 32,
      "outputs": []
    },
    {
      "cell_type": "code",
      "source": [
        "#adding the output layer\n",
        "regressor.add(Dense(units = 1, kernel_initializer = 'normal',activation = 'linear'))"
      ],
      "metadata": {
        "id": "n_ndBQlWwSFY"
      },
      "execution_count": 33,
      "outputs": []
    },
    {
      "cell_type": "code",
      "source": [
        "#compiling the ANN\n",
        "regressor.compile(optimizer = 'rmsprop', loss = 'mean_absolute_error', metrics = ['mean_absolute_error'])"
      ],
      "metadata": {
        "id": "uIyGVysMwTnt"
      },
      "execution_count": 34,
      "outputs": []
    },
    {
      "cell_type": "code",
      "source": [
        "#del regressor\n",
        "regressor.summary()"
      ],
      "metadata": {
        "colab": {
          "base_uri": "https://localhost:8080/"
        },
        "id": "T9xWd963wVwu",
        "outputId": "8caba6e2-a514-4411-dc31-135e871d433d"
      },
      "execution_count": 35,
      "outputs": [
        {
          "output_type": "stream",
          "name": "stdout",
          "text": [
            "Model: \"sequential\"\n",
            "_________________________________________________________________\n",
            " Layer (type)                Output Shape              Param #   \n",
            "=================================================================\n",
            " dense (Dense)               (None, 100)               4800      \n",
            "                                                                 \n",
            " dropout (Dropout)           (None, 100)               0         \n",
            "                                                                 \n",
            " dense_1 (Dense)             (None, 100)               10100     \n",
            "                                                                 \n",
            " dropout_1 (Dropout)         (None, 100)               0         \n",
            "                                                                 \n",
            " dense_2 (Dense)             (None, 100)               10100     \n",
            "                                                                 \n",
            " dropout_2 (Dropout)         (None, 100)               0         \n",
            "                                                                 \n",
            " dense_3 (Dense)             (None, 100)               10100     \n",
            "                                                                 \n",
            " dropout_3 (Dropout)         (None, 100)               0         \n",
            "                                                                 \n",
            " dense_4 (Dense)             (None, 1)                 101       \n",
            "                                                                 \n",
            "=================================================================\n",
            "Total params: 35,201\n",
            "Trainable params: 35,201\n",
            "Non-trainable params: 0\n",
            "_________________________________________________________________\n"
          ]
        }
      ]
    },
    {
      "cell_type": "code",
      "source": [
        "#Fitting the ANN to the training set\n",
        "regressor.fit(X_train, y_train, batch_size = 10, epochs = 100)"
      ],
      "metadata": {
        "colab": {
          "base_uri": "https://localhost:8080/"
        },
        "id": "CVZmlDTPwaM9",
        "outputId": "166b4c34-0516-430a-d0bb-bb692be559c6"
      },
      "execution_count": 36,
      "outputs": [
        {
          "output_type": "stream",
          "name": "stdout",
          "text": [
            "Epoch 1/100\n",
            "754/754 [==============================] - 3s 2ms/step - loss: 0.8835 - mean_absolute_error: 0.8835\n",
            "Epoch 2/100\n",
            "754/754 [==============================] - 2s 2ms/step - loss: 0.6425 - mean_absolute_error: 0.6425\n",
            "Epoch 3/100\n",
            "754/754 [==============================] - 1s 2ms/step - loss: 0.5701 - mean_absolute_error: 0.5701\n",
            "Epoch 4/100\n",
            "754/754 [==============================] - 2s 3ms/step - loss: 0.5311 - mean_absolute_error: 0.5311\n",
            "Epoch 5/100\n",
            "754/754 [==============================] - 4s 5ms/step - loss: 0.5051 - mean_absolute_error: 0.5051\n",
            "Epoch 6/100\n",
            "754/754 [==============================] - 3s 4ms/step - loss: 0.4816 - mean_absolute_error: 0.4816\n",
            "Epoch 7/100\n",
            "754/754 [==============================] - 2s 3ms/step - loss: 0.4699 - mean_absolute_error: 0.4699\n",
            "Epoch 8/100\n",
            "754/754 [==============================] - 4s 6ms/step - loss: 0.4676 - mean_absolute_error: 0.4676\n",
            "Epoch 9/100\n",
            "754/754 [==============================] - 4s 6ms/step - loss: 0.4646 - mean_absolute_error: 0.4646\n",
            "Epoch 10/100\n",
            "754/754 [==============================] - 4s 5ms/step - loss: 0.4619 - mean_absolute_error: 0.4619\n",
            "Epoch 11/100\n",
            "754/754 [==============================] - 4s 5ms/step - loss: 0.4631 - mean_absolute_error: 0.4631\n",
            "Epoch 12/100\n",
            "754/754 [==============================] - 2s 3ms/step - loss: 0.4609 - mean_absolute_error: 0.4609\n",
            "Epoch 13/100\n",
            "754/754 [==============================] - 3s 4ms/step - loss: 0.4587 - mean_absolute_error: 0.4587\n",
            "Epoch 14/100\n",
            "754/754 [==============================] - 1s 2ms/step - loss: 0.4554 - mean_absolute_error: 0.4554\n",
            "Epoch 15/100\n",
            "754/754 [==============================] - 1s 2ms/step - loss: 0.4570 - mean_absolute_error: 0.4570\n",
            "Epoch 16/100\n",
            "754/754 [==============================] - 1s 2ms/step - loss: 0.4577 - mean_absolute_error: 0.4577\n",
            "Epoch 17/100\n",
            "754/754 [==============================] - 1s 2ms/step - loss: 0.4549 - mean_absolute_error: 0.4549\n",
            "Epoch 18/100\n",
            "754/754 [==============================] - 1s 2ms/step - loss: 0.4545 - mean_absolute_error: 0.4545\n",
            "Epoch 19/100\n",
            "754/754 [==============================] - 1s 2ms/step - loss: 0.4560 - mean_absolute_error: 0.4560\n",
            "Epoch 20/100\n",
            "754/754 [==============================] - 1s 2ms/step - loss: 0.4549 - mean_absolute_error: 0.4549\n",
            "Epoch 21/100\n",
            "754/754 [==============================] - 1s 2ms/step - loss: 0.4517 - mean_absolute_error: 0.4517\n",
            "Epoch 22/100\n",
            "754/754 [==============================] - 1s 2ms/step - loss: 0.4517 - mean_absolute_error: 0.4517\n",
            "Epoch 23/100\n",
            "754/754 [==============================] - 1s 2ms/step - loss: 0.4529 - mean_absolute_error: 0.4529\n",
            "Epoch 24/100\n",
            "754/754 [==============================] - 1s 2ms/step - loss: 0.4516 - mean_absolute_error: 0.4516\n",
            "Epoch 25/100\n",
            "754/754 [==============================] - 1s 2ms/step - loss: 0.4485 - mean_absolute_error: 0.4485\n",
            "Epoch 26/100\n",
            "754/754 [==============================] - 1s 2ms/step - loss: 0.4515 - mean_absolute_error: 0.4515\n",
            "Epoch 27/100\n",
            "754/754 [==============================] - 1s 2ms/step - loss: 0.4467 - mean_absolute_error: 0.4467\n",
            "Epoch 28/100\n",
            "754/754 [==============================] - 1s 2ms/step - loss: 0.4472 - mean_absolute_error: 0.4472\n",
            "Epoch 29/100\n",
            "754/754 [==============================] - 1s 2ms/step - loss: 0.4461 - mean_absolute_error: 0.4461\n",
            "Epoch 30/100\n",
            "754/754 [==============================] - 1s 2ms/step - loss: 0.4447 - mean_absolute_error: 0.4447\n",
            "Epoch 31/100\n",
            "754/754 [==============================] - 2s 2ms/step - loss: 0.4451 - mean_absolute_error: 0.4451\n",
            "Epoch 32/100\n",
            "754/754 [==============================] - 1s 2ms/step - loss: 0.4461 - mean_absolute_error: 0.4461\n",
            "Epoch 33/100\n",
            "754/754 [==============================] - 2s 2ms/step - loss: 0.4465 - mean_absolute_error: 0.4465\n",
            "Epoch 34/100\n",
            "754/754 [==============================] - 1s 2ms/step - loss: 0.4435 - mean_absolute_error: 0.4435\n",
            "Epoch 35/100\n",
            "754/754 [==============================] - 1s 2ms/step - loss: 0.4457 - mean_absolute_error: 0.4457\n",
            "Epoch 36/100\n",
            "754/754 [==============================] - 1s 2ms/step - loss: 0.4427 - mean_absolute_error: 0.4427\n",
            "Epoch 37/100\n",
            "754/754 [==============================] - 1s 2ms/step - loss: 0.4445 - mean_absolute_error: 0.4445\n",
            "Epoch 38/100\n",
            "754/754 [==============================] - 1s 2ms/step - loss: 0.4415 - mean_absolute_error: 0.4415\n",
            "Epoch 39/100\n",
            "754/754 [==============================] - 1s 2ms/step - loss: 0.4429 - mean_absolute_error: 0.4429\n",
            "Epoch 40/100\n",
            "754/754 [==============================] - 1s 2ms/step - loss: 0.4426 - mean_absolute_error: 0.4426\n",
            "Epoch 41/100\n",
            "754/754 [==============================] - 1s 2ms/step - loss: 0.4436 - mean_absolute_error: 0.4436\n",
            "Epoch 42/100\n",
            "754/754 [==============================] - 1s 2ms/step - loss: 0.4429 - mean_absolute_error: 0.4429\n",
            "Epoch 43/100\n",
            "754/754 [==============================] - 1s 2ms/step - loss: 0.4431 - mean_absolute_error: 0.4431\n",
            "Epoch 44/100\n",
            "754/754 [==============================] - 1s 2ms/step - loss: 0.4407 - mean_absolute_error: 0.4407\n",
            "Epoch 45/100\n",
            "754/754 [==============================] - 1s 2ms/step - loss: 0.4421 - mean_absolute_error: 0.4421\n",
            "Epoch 46/100\n",
            "754/754 [==============================] - 2s 2ms/step - loss: 0.4379 - mean_absolute_error: 0.4379\n",
            "Epoch 47/100\n",
            "754/754 [==============================] - 1s 2ms/step - loss: 0.4426 - mean_absolute_error: 0.4426\n",
            "Epoch 48/100\n",
            "754/754 [==============================] - 1s 2ms/step - loss: 0.4387 - mean_absolute_error: 0.4387\n",
            "Epoch 49/100\n",
            "754/754 [==============================] - 1s 2ms/step - loss: 0.4375 - mean_absolute_error: 0.4375\n",
            "Epoch 50/100\n",
            "754/754 [==============================] - 1s 2ms/step - loss: 0.4365 - mean_absolute_error: 0.4365\n",
            "Epoch 51/100\n",
            "754/754 [==============================] - 1s 2ms/step - loss: 0.4358 - mean_absolute_error: 0.4358\n",
            "Epoch 52/100\n",
            "754/754 [==============================] - 2s 2ms/step - loss: 0.4358 - mean_absolute_error: 0.4358\n",
            "Epoch 53/100\n",
            "754/754 [==============================] - 2s 2ms/step - loss: 0.4339 - mean_absolute_error: 0.4339\n",
            "Epoch 54/100\n",
            "754/754 [==============================] - 1s 2ms/step - loss: 0.4336 - mean_absolute_error: 0.4336\n",
            "Epoch 55/100\n",
            "754/754 [==============================] - 1s 2ms/step - loss: 0.4318 - mean_absolute_error: 0.4318\n",
            "Epoch 56/100\n",
            "754/754 [==============================] - 2s 2ms/step - loss: 0.4320 - mean_absolute_error: 0.4320\n",
            "Epoch 57/100\n",
            "754/754 [==============================] - 1s 2ms/step - loss: 0.4300 - mean_absolute_error: 0.4300\n",
            "Epoch 58/100\n",
            "754/754 [==============================] - 1s 2ms/step - loss: 0.4289 - mean_absolute_error: 0.4289\n",
            "Epoch 59/100\n",
            "754/754 [==============================] - 1s 2ms/step - loss: 0.4286 - mean_absolute_error: 0.4286\n",
            "Epoch 60/100\n",
            "754/754 [==============================] - 2s 2ms/step - loss: 0.4288 - mean_absolute_error: 0.4288\n",
            "Epoch 61/100\n",
            "754/754 [==============================] - 2s 2ms/step - loss: 0.4277 - mean_absolute_error: 0.4277\n",
            "Epoch 62/100\n",
            "754/754 [==============================] - 2s 2ms/step - loss: 0.4255 - mean_absolute_error: 0.4255\n",
            "Epoch 63/100\n",
            "754/754 [==============================] - 1s 2ms/step - loss: 0.4267 - mean_absolute_error: 0.4267\n",
            "Epoch 64/100\n",
            "754/754 [==============================] - 2s 2ms/step - loss: 0.4246 - mean_absolute_error: 0.4246\n",
            "Epoch 65/100\n",
            "754/754 [==============================] - 2s 3ms/step - loss: 0.4239 - mean_absolute_error: 0.4239\n",
            "Epoch 66/100\n",
            "754/754 [==============================] - 1s 2ms/step - loss: 0.4237 - mean_absolute_error: 0.4237\n",
            "Epoch 67/100\n",
            "754/754 [==============================] - 1s 2ms/step - loss: 0.4230 - mean_absolute_error: 0.4230\n",
            "Epoch 68/100\n",
            "754/754 [==============================] - 1s 2ms/step - loss: 0.4219 - mean_absolute_error: 0.4219\n",
            "Epoch 69/100\n",
            "754/754 [==============================] - 1s 2ms/step - loss: 0.4234 - mean_absolute_error: 0.4234\n",
            "Epoch 70/100\n",
            "754/754 [==============================] - 1s 2ms/step - loss: 0.4238 - mean_absolute_error: 0.4238\n",
            "Epoch 71/100\n",
            "754/754 [==============================] - 1s 2ms/step - loss: 0.4204 - mean_absolute_error: 0.4204\n",
            "Epoch 72/100\n",
            "754/754 [==============================] - 1s 2ms/step - loss: 0.4217 - mean_absolute_error: 0.4217\n",
            "Epoch 73/100\n",
            "754/754 [==============================] - 2s 2ms/step - loss: 0.4224 - mean_absolute_error: 0.4224\n",
            "Epoch 74/100\n",
            "754/754 [==============================] - 1s 2ms/step - loss: 0.4230 - mean_absolute_error: 0.4230\n",
            "Epoch 75/100\n",
            "754/754 [==============================] - 2s 2ms/step - loss: 0.4222 - mean_absolute_error: 0.4222\n",
            "Epoch 76/100\n",
            "754/754 [==============================] - 2s 2ms/step - loss: 0.4203 - mean_absolute_error: 0.4203\n",
            "Epoch 77/100\n",
            "754/754 [==============================] - 2s 2ms/step - loss: 0.4192 - mean_absolute_error: 0.4192\n",
            "Epoch 78/100\n",
            "754/754 [==============================] - 2s 2ms/step - loss: 0.4213 - mean_absolute_error: 0.4213\n",
            "Epoch 79/100\n",
            "754/754 [==============================] - 2s 2ms/step - loss: 0.4192 - mean_absolute_error: 0.4192\n",
            "Epoch 80/100\n",
            "754/754 [==============================] - 2s 3ms/step - loss: 0.4186 - mean_absolute_error: 0.4186\n",
            "Epoch 81/100\n",
            "754/754 [==============================] - 2s 2ms/step - loss: 0.4219 - mean_absolute_error: 0.4219\n",
            "Epoch 82/100\n",
            "754/754 [==============================] - 2s 2ms/step - loss: 0.4191 - mean_absolute_error: 0.4191\n",
            "Epoch 83/100\n",
            "754/754 [==============================] - 2s 2ms/step - loss: 0.4198 - mean_absolute_error: 0.4198\n",
            "Epoch 84/100\n",
            "754/754 [==============================] - 1s 2ms/step - loss: 0.4190 - mean_absolute_error: 0.4190\n",
            "Epoch 85/100\n",
            "754/754 [==============================] - 2s 2ms/step - loss: 0.4179 - mean_absolute_error: 0.4179\n",
            "Epoch 86/100\n",
            "754/754 [==============================] - 2s 2ms/step - loss: 0.4182 - mean_absolute_error: 0.4182\n",
            "Epoch 87/100\n",
            "754/754 [==============================] - 2s 2ms/step - loss: 0.4206 - mean_absolute_error: 0.4206\n",
            "Epoch 88/100\n",
            "754/754 [==============================] - 1s 2ms/step - loss: 0.4191 - mean_absolute_error: 0.4191\n",
            "Epoch 89/100\n",
            "754/754 [==============================] - 1s 2ms/step - loss: 0.4174 - mean_absolute_error: 0.4174\n",
            "Epoch 90/100\n",
            "754/754 [==============================] - 2s 2ms/step - loss: 0.4201 - mean_absolute_error: 0.4201\n",
            "Epoch 91/100\n",
            "754/754 [==============================] - 2s 2ms/step - loss: 0.4189 - mean_absolute_error: 0.4189\n",
            "Epoch 92/100\n",
            "754/754 [==============================] - 1s 2ms/step - loss: 0.4173 - mean_absolute_error: 0.4173\n",
            "Epoch 93/100\n",
            "754/754 [==============================] - 2s 2ms/step - loss: 0.4205 - mean_absolute_error: 0.4205\n",
            "Epoch 94/100\n",
            "754/754 [==============================] - 1s 2ms/step - loss: 0.4164 - mean_absolute_error: 0.4164\n",
            "Epoch 95/100\n",
            "754/754 [==============================] - 2s 2ms/step - loss: 0.4178 - mean_absolute_error: 0.4178\n",
            "Epoch 96/100\n",
            "754/754 [==============================] - 2s 2ms/step - loss: 0.4177 - mean_absolute_error: 0.4177\n",
            "Epoch 97/100\n",
            "754/754 [==============================] - 2s 2ms/step - loss: 0.4155 - mean_absolute_error: 0.4155\n",
            "Epoch 98/100\n",
            "754/754 [==============================] - 2s 2ms/step - loss: 0.4157 - mean_absolute_error: 0.4157\n",
            "Epoch 99/100\n",
            "754/754 [==============================] - 2s 2ms/step - loss: 0.4156 - mean_absolute_error: 0.4156\n",
            "Epoch 100/100\n",
            "754/754 [==============================] - 2s 2ms/step - loss: 0.4150 - mean_absolute_error: 0.4150\n"
          ]
        },
        {
          "output_type": "execute_result",
          "data": {
            "text/plain": [
              "<keras.callbacks.History at 0x7ff13c954160>"
            ]
          },
          "metadata": {},
          "execution_count": 36
        }
      ]
    },
    {
      "cell_type": "code",
      "source": [
        "y_pred_nn = regressor.predict(X_test)"
      ],
      "metadata": {
        "colab": {
          "base_uri": "https://localhost:8080/"
        },
        "id": "LOK9qj7ywdje",
        "outputId": "50fde97f-704b-4ea2-cd1c-88c16aed71df"
      },
      "execution_count": 37,
      "outputs": [
        {
          "output_type": "stream",
          "name": "stdout",
          "text": [
            "59/59 [==============================] - 0s 1ms/step\n"
          ]
        }
      ]
    },
    {
      "cell_type": "code",
      "source": [
        "# RMSE\n",
        "mean_squared_error(y_test, y_pred_nn, squared=False)"
      ],
      "metadata": {
        "colab": {
          "base_uri": "https://localhost:8080/"
        },
        "id": "Ah-OqZBovel3",
        "outputId": "22a78afc-4ae8-4597-bca4-dfe040a72a9f"
      },
      "execution_count": 39,
      "outputs": [
        {
          "output_type": "execute_result",
          "data": {
            "text/plain": [
              "0.5697394965841595"
            ]
          },
          "metadata": {},
          "execution_count": 39
        }
      ]
    },
    {
      "cell_type": "code",
      "source": [
        "# MAE\n",
        "mae_ann = mean_absolute_error(y_test, y_pred_nn)\n",
        "mae_ann"
      ],
      "metadata": {
        "colab": {
          "base_uri": "https://localhost:8080/"
        },
        "id": "11rgQ1C8wmQP",
        "outputId": "af428b9b-c8b5-465b-da91-f4cab7976afd"
      },
      "execution_count": 40,
      "outputs": [
        {
          "output_type": "execute_result",
          "data": {
            "text/plain": [
              "0.42177459626646036"
            ]
          },
          "metadata": {},
          "execution_count": 40
        }
      ]
    },
    {
      "cell_type": "markdown",
      "source": [
        "### Tuning the ANN model"
      ],
      "metadata": {
        "id": "TCTGwqWkwqEs"
      }
    },
    {
      "cell_type": "code",
      "source": [
        "from keras.wrappers.scikit_learn import KerasRegressor\n",
        "from sklearn.model_selection import GridSearchCV\n",
        "\n",
        "from keras.models import Sequential\n",
        "from keras.layers import Dense\n",
        "def build_regressor(optimizer):\n",
        "    regressor = Sequential()\n",
        "    regressor.add(Dense(units = 7, kernel_initializer = 'normal',activation = 'relu', input_dim =47))\n",
        "    regressor.add(Dense(units = 7, kernel_initializer = 'normal',activation = 'relu'))\n",
        "    regressor.add(Dense(units = 7, kernel_initializer = 'normal',activation = 'relu'))\n",
        "    regressor.add(Dense(units = 7, kernel_initializer = 'normal',activation = 'relu'))\n",
        "    regressor.add(Dense(units = 1, kernel_initializer = 'normal',activation = 'linear'))\n",
        "    regressor.compile(optimizer = optimizer, loss = 'mean_absolute_error', metrics = ['mean_absolute_error'])     \n",
        "    return regressor\n",
        "\n",
        "regressor = KerasRegressor(build_fn = build_regressor)\n",
        "\n",
        "parameters = {'batch_size': [4,8],\n",
        "              'nb_epoch': [500,1000],\n",
        "              'optimizer': ['adam', 'rmsprop', 'sgd']}\n",
        "\n",
        "grid_search = GridSearchCV(estimator = regressor,\n",
        "                           param_grid = parameters,\n",
        "                           scoring = 'neg_mean_absolute_error',\n",
        "                           cv =10)\n",
        "\n",
        "#this might take a while \n",
        "grid_search = grid_search.fit(X_train, y_train)\n",
        "best_parameters = grid_search.best_params_\n",
        "best_accuracy = grid_search.best_score_"
      ],
      "metadata": {
        "colab": {
          "base_uri": "https://localhost:8080/"
        },
        "id": "Vbyqzud3wrnv",
        "outputId": "f0f555c7-7ba2-4bd0-b0e1-df8b89291f02"
      },
      "execution_count": 57,
      "outputs": [
        {
          "output_type": "stream",
          "name": "stderr",
          "text": [
            "<ipython-input-57-99ed82c9dd14>:16: DeprecationWarning: KerasRegressor is deprecated, use Sci-Keras (https://github.com/adriangb/scikeras) instead. See https://www.adriangb.com/scikeras/stable/migration.html for help migrating.\n",
            "  regressor = KerasRegressor(build_fn = build_regressor)\n"
          ]
        },
        {
          "output_type": "stream",
          "name": "stdout",
          "text": [
            "1695/1695 [==============================] - 4s 2ms/step - loss: 1.3199 - mean_absolute_error: 1.3199\n",
            "189/189 [==============================] - 0s 1ms/step\n",
            "1695/1695 [==============================] - 3s 2ms/step - loss: 1.5378 - mean_absolute_error: 1.5378\n",
            "189/189 [==============================] - 0s 1ms/step\n",
            "1695/1695 [==============================] - 4s 2ms/step - loss: 1.3812 - mean_absolute_error: 1.3812\n",
            "189/189 [==============================] - 0s 1ms/step\n",
            "1695/1695 [==============================] - 3s 2ms/step - loss: 1.2906 - mean_absolute_error: 1.2906\n",
            "189/189 [==============================] - 0s 1ms/step\n",
            "1695/1695 [==============================] - 4s 2ms/step - loss: 1.2653 - mean_absolute_error: 1.2653\n",
            "189/189 [==============================] - 0s 1ms/step\n",
            "1695/1695 [==============================] - 4s 2ms/step - loss: 1.4013 - mean_absolute_error: 1.4013\n",
            "189/189 [==============================] - 0s 1ms/step\n",
            "1695/1695 [==============================] - 4s 2ms/step - loss: 1.2788 - mean_absolute_error: 1.2788\n",
            "189/189 [==============================] - 0s 1ms/step\n",
            "1695/1695 [==============================] - 3s 2ms/step - loss: 1.2725 - mean_absolute_error: 1.2725\n",
            "189/189 [==============================] - 0s 1ms/step\n",
            "1695/1695 [==============================] - 4s 2ms/step - loss: 1.3747 - mean_absolute_error: 1.3747\n",
            "189/189 [==============================] - 0s 1ms/step\n",
            "1695/1695 [==============================] - 4s 2ms/step - loss: 1.5722 - mean_absolute_error: 1.5722\n",
            "189/189 [==============================] - 0s 1ms/step\n",
            "1695/1695 [==============================] - 4s 2ms/step - loss: 1.5866 - mean_absolute_error: 1.5866\n",
            "189/189 [==============================] - 0s 1ms/step\n",
            "1695/1695 [==============================] - 4s 2ms/step - loss: 1.4326 - mean_absolute_error: 1.4326\n",
            "189/189 [==============================] - 0s 1ms/step\n",
            "1695/1695 [==============================] - 4s 2ms/step - loss: 1.7983 - mean_absolute_error: 1.7983\n",
            "189/189 [==============================] - 0s 1ms/step\n",
            "1695/1695 [==============================] - 4s 2ms/step - loss: 1.3233 - mean_absolute_error: 1.3233\n",
            "189/189 [==============================] - 0s 1ms/step\n",
            "1695/1695 [==============================] - 4s 2ms/step - loss: 1.4224 - mean_absolute_error: 1.4224\n",
            "189/189 [==============================] - 0s 1ms/step\n",
            "1695/1695 [==============================] - 4s 2ms/step - loss: 1.4119 - mean_absolute_error: 1.4119\n",
            "189/189 [==============================] - 0s 1ms/step\n",
            "1695/1695 [==============================] - 4s 2ms/step - loss: 1.4613 - mean_absolute_error: 1.4613\n",
            "189/189 [==============================] - 0s 1ms/step\n",
            "1695/1695 [==============================] - 4s 2ms/step - loss: 1.6138 - mean_absolute_error: 1.6138\n",
            "189/189 [==============================] - 0s 1ms/step\n",
            "1695/1695 [==============================] - 4s 2ms/step - loss: 1.8478 - mean_absolute_error: 1.8478\n",
            "189/189 [==============================] - 0s 1ms/step\n",
            "1695/1695 [==============================] - 4s 2ms/step - loss: 1.5218 - mean_absolute_error: 1.5218\n",
            "189/189 [==============================] - 0s 1ms/step\n",
            "1695/1695 [==============================] - 3s 2ms/step - loss: 1.5032 - mean_absolute_error: 1.5032\n",
            "189/189 [==============================] - 0s 1ms/step\n",
            "1695/1695 [==============================] - 3s 2ms/step - loss: 1.4973 - mean_absolute_error: 1.4973\n",
            "189/189 [==============================] - 0s 1ms/step\n",
            "1695/1695 [==============================] - 3s 2ms/step - loss: 1.5532 - mean_absolute_error: 1.5532\n",
            "189/189 [==============================] - 0s 1ms/step\n",
            "1695/1695 [==============================] - 3s 2ms/step - loss: 1.4929 - mean_absolute_error: 1.4929\n",
            "189/189 [==============================] - 0s 1ms/step\n",
            "1695/1695 [==============================] - 3s 1ms/step - loss: 1.4648 - mean_absolute_error: 1.4648\n",
            "189/189 [==============================] - 0s 1ms/step\n",
            "1695/1695 [==============================] - 3s 2ms/step - loss: 1.4138 - mean_absolute_error: 1.4138\n",
            "189/189 [==============================] - 0s 1ms/step\n",
            "1695/1695 [==============================] - 3s 2ms/step - loss: 1.2868 - mean_absolute_error: 1.2868\n",
            "189/189 [==============================] - 0s 1ms/step\n",
            "1695/1695 [==============================] - 3s 2ms/step - loss: 1.6343 - mean_absolute_error: 1.6343\n",
            "189/189 [==============================] - 0s 1ms/step\n",
            "1695/1695 [==============================] - 3s 2ms/step - loss: 1.4221 - mean_absolute_error: 1.4221\n",
            "189/189 [==============================] - 0s 1ms/step\n",
            "1695/1695 [==============================] - 3s 2ms/step - loss: 1.3199 - mean_absolute_error: 1.3199\n",
            "189/189 [==============================] - 0s 2ms/step\n",
            "1695/1695 [==============================] - 6s 3ms/step - loss: 1.2409 - mean_absolute_error: 1.2409\n",
            "189/189 [==============================] - 0s 1ms/step\n",
            "1695/1695 [==============================] - 4s 2ms/step - loss: 1.3667 - mean_absolute_error: 1.3667\n",
            "189/189 [==============================] - 0s 1ms/step\n",
            "1695/1695 [==============================] - 4s 2ms/step - loss: 1.2638 - mean_absolute_error: 1.2638\n",
            "189/189 [==============================] - 0s 1ms/step\n",
            "1695/1695 [==============================] - 4s 2ms/step - loss: 1.5746 - mean_absolute_error: 1.5746\n",
            "189/189 [==============================] - 0s 1ms/step\n",
            "1695/1695 [==============================] - 4s 2ms/step - loss: 1.1117 - mean_absolute_error: 1.1117\n",
            "189/189 [==============================] - 0s 1ms/step\n",
            "1695/1695 [==============================] - 4s 2ms/step - loss: 1.3162 - mean_absolute_error: 1.3162\n",
            "189/189 [==============================] - 0s 1ms/step\n",
            "1695/1695 [==============================] - 4s 2ms/step - loss: 1.2402 - mean_absolute_error: 1.2402\n",
            "189/189 [==============================] - 0s 1ms/step\n",
            "1695/1695 [==============================] - 4s 2ms/step - loss: 1.3749 - mean_absolute_error: 1.3749\n",
            "189/189 [==============================] - 0s 1ms/step\n",
            "1695/1695 [==============================] - 4s 2ms/step - loss: 1.2667 - mean_absolute_error: 1.2667\n",
            "189/189 [==============================] - 0s 1ms/step\n",
            "1695/1695 [==============================] - 4s 2ms/step - loss: 6.1298 - mean_absolute_error: 6.1298\n",
            "189/189 [==============================] - 0s 1ms/step\n",
            "1695/1695 [==============================] - 4s 2ms/step - loss: 1.7437 - mean_absolute_error: 1.7437\n",
            "189/189 [==============================] - 0s 1ms/step\n",
            "1695/1695 [==============================] - 4s 2ms/step - loss: 1.4635 - mean_absolute_error: 1.4635\n",
            "189/189 [==============================] - 0s 1ms/step\n",
            "1695/1695 [==============================] - 4s 2ms/step - loss: 1.3267 - mean_absolute_error: 1.3267\n",
            "189/189 [==============================] - 0s 1ms/step\n",
            "1695/1695 [==============================] - 4s 2ms/step - loss: 1.5433 - mean_absolute_error: 1.5433\n",
            "189/189 [==============================] - 0s 1ms/step\n",
            "1695/1695 [==============================] - 4s 2ms/step - loss: 1.5035 - mean_absolute_error: 1.5035\n",
            "189/189 [==============================] - 0s 1ms/step\n",
            "1695/1695 [==============================] - 4s 2ms/step - loss: 1.4615 - mean_absolute_error: 1.4615\n",
            "189/189 [==============================] - 0s 1ms/step\n",
            "1695/1695 [==============================] - 4s 2ms/step - loss: 1.7993 - mean_absolute_error: 1.7993\n",
            "189/189 [==============================] - 0s 1ms/step\n",
            "1695/1695 [==============================] - 4s 2ms/step - loss: 1.5322 - mean_absolute_error: 1.5322\n",
            "189/189 [==============================] - 0s 1ms/step\n",
            "1695/1695 [==============================] - 4s 2ms/step - loss: 1.4127 - mean_absolute_error: 1.4127\n",
            "189/189 [==============================] - 0s 1ms/step\n",
            "1695/1695 [==============================] - 4s 2ms/step - loss: 1.4202 - mean_absolute_error: 1.4202\n",
            "189/189 [==============================] - 0s 1ms/step\n",
            "1695/1695 [==============================] - 3s 2ms/step - loss: 1.3964 - mean_absolute_error: 1.3964\n",
            "189/189 [==============================] - 0s 1ms/step\n",
            "1695/1695 [==============================] - 3s 2ms/step - loss: 1.3929 - mean_absolute_error: 1.3929\n",
            "189/189 [==============================] - 0s 1ms/step\n",
            "1695/1695 [==============================] - 3s 2ms/step - loss: 1.5740 - mean_absolute_error: 1.5740\n",
            "189/189 [==============================] - 0s 1ms/step\n",
            "1695/1695 [==============================] - 3s 2ms/step - loss: 1.5623 - mean_absolute_error: 1.5623\n",
            "189/189 [==============================] - 0s 1ms/step\n",
            "1695/1695 [==============================] - 3s 2ms/step - loss: 1.4149 - mean_absolute_error: 1.4149\n",
            "189/189 [==============================] - 0s 1ms/step\n",
            "1695/1695 [==============================] - 3s 2ms/step - loss: 1.4001 - mean_absolute_error: 1.4001\n",
            "189/189 [==============================] - 0s 1ms/step\n",
            "1695/1695 [==============================] - 3s 2ms/step - loss: 1.3724 - mean_absolute_error: 1.3724\n",
            "189/189 [==============================] - 0s 1ms/step\n",
            "1695/1695 [==============================] - 3s 2ms/step - loss: 1.4254 - mean_absolute_error: 1.4254\n",
            "189/189 [==============================] - 0s 1ms/step\n",
            "1695/1695 [==============================] - 3s 2ms/step - loss: 1.3831 - mean_absolute_error: 1.3831\n",
            "189/189 [==============================] - 0s 1ms/step\n",
            "1695/1695 [==============================] - 3s 2ms/step - loss: 1.3654 - mean_absolute_error: 1.3654\n",
            "189/189 [==============================] - 0s 1ms/step\n",
            "848/848 [==============================] - 2s 2ms/step - loss: 2.0571 - mean_absolute_error: 2.0571\n",
            "95/95 [==============================] - 0s 1ms/step\n",
            "848/848 [==============================] - 2s 2ms/step - loss: 1.9356 - mean_absolute_error: 1.9356\n",
            "95/95 [==============================] - 0s 1ms/step\n",
            "848/848 [==============================] - 2s 2ms/step - loss: 1.9479 - mean_absolute_error: 1.9479\n",
            "95/95 [==============================] - 0s 1ms/step\n",
            "848/848 [==============================] - 2s 2ms/step - loss: 1.9882 - mean_absolute_error: 1.9882\n",
            "95/95 [==============================] - 0s 1ms/step\n",
            "848/848 [==============================] - 2s 2ms/step - loss: 1.7683 - mean_absolute_error: 1.7683\n",
            "95/95 [==============================] - 0s 1ms/step\n",
            "848/848 [==============================] - 2s 2ms/step - loss: 1.9057 - mean_absolute_error: 1.9057\n",
            "95/95 [==============================] - 0s 1ms/step\n",
            "848/848 [==============================] - 2s 2ms/step - loss: 1.8808 - mean_absolute_error: 1.8808\n",
            "95/95 [==============================] - 0s 1ms/step\n",
            "848/848 [==============================] - 2s 2ms/step - loss: 2.0285 - mean_absolute_error: 2.0285\n",
            "95/95 [==============================] - 0s 1ms/step\n",
            "848/848 [==============================] - 2s 2ms/step - loss: 1.9546 - mean_absolute_error: 1.9546\n",
            "95/95 [==============================] - 0s 1ms/step\n",
            "848/848 [==============================] - 2s 2ms/step - loss: 2.2785 - mean_absolute_error: 2.2785\n",
            "95/95 [==============================] - 0s 1ms/step\n",
            "848/848 [==============================] - 2s 2ms/step - loss: 2.5224 - mean_absolute_error: 2.5224\n",
            "95/95 [==============================] - 0s 1ms/step\n",
            "848/848 [==============================] - 2s 2ms/step - loss: 2.1660 - mean_absolute_error: 2.1660\n",
            "95/95 [==============================] - 0s 1ms/step\n",
            "848/848 [==============================] - 2s 2ms/step - loss: 2.0783 - mean_absolute_error: 2.0783\n",
            "95/95 [==============================] - 0s 1ms/step\n",
            "848/848 [==============================] - 2s 2ms/step - loss: 2.1757 - mean_absolute_error: 2.1757\n",
            "95/95 [==============================] - 0s 1ms/step\n",
            "848/848 [==============================] - 2s 2ms/step - loss: 2.3259 - mean_absolute_error: 2.3259\n",
            "95/95 [==============================] - 0s 1ms/step\n",
            "848/848 [==============================] - 2s 2ms/step - loss: 3.2881 - mean_absolute_error: 3.2881\n",
            "95/95 [==============================] - 0s 1ms/step\n",
            "848/848 [==============================] - 2s 2ms/step - loss: 2.6505 - mean_absolute_error: 2.6505\n",
            "95/95 [==============================] - 0s 1ms/step\n",
            "848/848 [==============================] - 2s 2ms/step - loss: 2.0997 - mean_absolute_error: 2.0997\n",
            "95/95 [==============================] - 0s 1ms/step\n",
            "848/848 [==============================] - 3s 2ms/step - loss: 2.5126 - mean_absolute_error: 2.5126\n",
            "95/95 [==============================] - 0s 1ms/step\n",
            "848/848 [==============================] - 2s 2ms/step - loss: 2.1767 - mean_absolute_error: 2.1767\n",
            "95/95 [==============================] - 0s 1ms/step\n",
            "848/848 [==============================] - 2s 2ms/step - loss: 2.3778 - mean_absolute_error: 2.3778\n",
            "95/95 [==============================] - 0s 1ms/step\n",
            "848/848 [==============================] - 2s 2ms/step - loss: 2.2596 - mean_absolute_error: 2.2596\n",
            "95/95 [==============================] - 0s 1ms/step\n",
            "848/848 [==============================] - 2s 2ms/step - loss: 2.1345 - mean_absolute_error: 2.1345\n",
            "95/95 [==============================] - 0s 1ms/step\n",
            "848/848 [==============================] - 2s 2ms/step - loss: 2.2293 - mean_absolute_error: 2.2293\n",
            "95/95 [==============================] - 0s 1ms/step\n",
            "848/848 [==============================] - 2s 2ms/step - loss: 2.4818 - mean_absolute_error: 2.4818\n",
            "95/95 [==============================] - 0s 1ms/step\n",
            "848/848 [==============================] - 2s 2ms/step - loss: 2.2708 - mean_absolute_error: 2.2708\n",
            "95/95 [==============================] - 0s 1ms/step\n",
            "848/848 [==============================] - 2s 2ms/step - loss: 2.3142 - mean_absolute_error: 2.3142\n",
            "95/95 [==============================] - 0s 1ms/step\n",
            "848/848 [==============================] - 2s 2ms/step - loss: 2.6927 - mean_absolute_error: 2.6927\n",
            "95/95 [==============================] - 0s 2ms/step\n",
            "848/848 [==============================] - 2s 2ms/step - loss: 2.3737 - mean_absolute_error: 2.3737\n",
            "95/95 [==============================] - 0s 1ms/step\n",
            "848/848 [==============================] - 2s 2ms/step - loss: 2.4166 - mean_absolute_error: 2.4166\n",
            "95/95 [==============================] - 0s 1ms/step\n",
            "848/848 [==============================] - 2s 2ms/step - loss: 2.1485 - mean_absolute_error: 2.1485\n",
            "95/95 [==============================] - 0s 1ms/step\n",
            "848/848 [==============================] - 2s 2ms/step - loss: 2.1023 - mean_absolute_error: 2.1023\n",
            "95/95 [==============================] - 0s 1ms/step\n",
            "848/848 [==============================] - 2s 2ms/step - loss: 1.7932 - mean_absolute_error: 1.7932\n",
            "95/95 [==============================] - 0s 1ms/step\n",
            "848/848 [==============================] - 2s 2ms/step - loss: 2.3447 - mean_absolute_error: 2.3447\n",
            "95/95 [==============================] - 0s 1ms/step\n",
            "848/848 [==============================] - 2s 2ms/step - loss: 2.3615 - mean_absolute_error: 2.3615\n",
            "95/95 [==============================] - 0s 1ms/step\n",
            "848/848 [==============================] - 2s 2ms/step - loss: 2.0133 - mean_absolute_error: 2.0133\n",
            "95/95 [==============================] - 0s 1ms/step\n",
            "848/848 [==============================] - 2s 2ms/step - loss: 1.9980 - mean_absolute_error: 1.9980\n",
            "95/95 [==============================] - 0s 1ms/step\n",
            "848/848 [==============================] - 2s 2ms/step - loss: 1.7696 - mean_absolute_error: 1.7696\n",
            "95/95 [==============================] - 0s 1ms/step\n",
            "848/848 [==============================] - 2s 2ms/step - loss: 2.1725 - mean_absolute_error: 2.1725\n",
            "95/95 [==============================] - 0s 1ms/step\n",
            "848/848 [==============================] - 2s 2ms/step - loss: 2.0876 - mean_absolute_error: 2.0876\n",
            "95/95 [==============================] - 0s 1ms/step\n",
            "848/848 [==============================] - 2s 2ms/step - loss: 2.4179 - mean_absolute_error: 2.4179\n",
            "95/95 [==============================] - 0s 1ms/step\n",
            "848/848 [==============================] - 2s 2ms/step - loss: 2.1483 - mean_absolute_error: 2.1483\n",
            "95/95 [==============================] - 0s 1ms/step\n",
            "848/848 [==============================] - 2s 2ms/step - loss: 2.2059 - mean_absolute_error: 2.2059\n",
            "95/95 [==============================] - 0s 1ms/step\n",
            "848/848 [==============================] - 2s 2ms/step - loss: 2.0483 - mean_absolute_error: 2.0483\n",
            "95/95 [==============================] - 0s 1ms/step\n",
            "848/848 [==============================] - 2s 2ms/step - loss: 2.2976 - mean_absolute_error: 2.2976\n",
            "95/95 [==============================] - 0s 1ms/step\n",
            "848/848 [==============================] - 3s 2ms/step - loss: 2.1797 - mean_absolute_error: 2.1797\n",
            "95/95 [==============================] - 0s 1ms/step\n",
            "848/848 [==============================] - 2s 2ms/step - loss: 2.5302 - mean_absolute_error: 2.5302\n",
            "95/95 [==============================] - 0s 1ms/step\n",
            "848/848 [==============================] - 2s 2ms/step - loss: 2.4342 - mean_absolute_error: 2.4342\n",
            "95/95 [==============================] - 0s 1ms/step\n",
            "848/848 [==============================] - 2s 2ms/step - loss: 2.1705 - mean_absolute_error: 2.1705\n",
            "95/95 [==============================] - 0s 1ms/step\n",
            "848/848 [==============================] - 2s 2ms/step - loss: 2.0085 - mean_absolute_error: 2.0085\n",
            "95/95 [==============================] - 0s 1ms/step\n",
            "848/848 [==============================] - 2s 2ms/step - loss: 2.3152 - mean_absolute_error: 2.3152\n",
            "95/95 [==============================] - 0s 1ms/step\n",
            "848/848 [==============================] - 2s 2ms/step - loss: 2.2565 - mean_absolute_error: 2.2565\n",
            "95/95 [==============================] - 0s 1ms/step\n",
            "848/848 [==============================] - 2s 2ms/step - loss: 2.6266 - mean_absolute_error: 2.6266\n",
            "95/95 [==============================] - 0s 1ms/step\n",
            "848/848 [==============================] - 2s 2ms/step - loss: 2.3421 - mean_absolute_error: 2.3421\n",
            "95/95 [==============================] - 0s 1ms/step\n",
            "848/848 [==============================] - 2s 2ms/step - loss: 2.2980 - mean_absolute_error: 2.2980\n",
            "95/95 [==============================] - 0s 1ms/step\n",
            "848/848 [==============================] - 2s 2ms/step - loss: 2.2503 - mean_absolute_error: 2.2503\n",
            "95/95 [==============================] - 0s 1ms/step\n",
            "848/848 [==============================] - 2s 2ms/step - loss: 2.3687 - mean_absolute_error: 2.3687\n",
            "95/95 [==============================] - 0s 1ms/step\n",
            "848/848 [==============================] - 2s 2ms/step - loss: 2.3169 - mean_absolute_error: 2.3169\n",
            "95/95 [==============================] - 0s 1ms/step\n",
            "848/848 [==============================] - 2s 2ms/step - loss: 2.4210 - mean_absolute_error: 2.4210\n",
            "95/95 [==============================] - 0s 1ms/step\n",
            "848/848 [==============================] - 2s 2ms/step - loss: 2.2195 - mean_absolute_error: 2.2195\n",
            "95/95 [==============================] - 0s 1ms/step\n",
            "1883/1883 [==============================] - 3s 2ms/step - loss: 1.3230 - mean_absolute_error: 1.3230\n"
          ]
        }
      ]
    },
    {
      "cell_type": "code",
      "source": [
        "best_parameters"
      ],
      "metadata": {
        "colab": {
          "base_uri": "https://localhost:8080/"
        },
        "id": "a92JcWyhw3af",
        "outputId": "4c9ee5c6-cac7-4490-d3f5-fe5a432aded3"
      },
      "execution_count": 58,
      "outputs": [
        {
          "output_type": "execute_result",
          "data": {
            "text/plain": [
              "{'batch_size': 4, 'nb_epoch': 500, 'optimizer': 'sgd'}"
            ]
          },
          "metadata": {},
          "execution_count": 58
        }
      ]
    },
    {
      "cell_type": "markdown",
      "source": [
        "### Best settings of ANN (mae: 0.415, rmse: 0.569)"
      ],
      "metadata": {
        "id": "gyHCGCIew-WA"
      }
    },
    {
      "cell_type": "code",
      "source": [
        "regressor_best = Sequential()\n",
        "\n",
        "regressor_best.add(Dense(units = 7, kernel_initializer = 'normal',activation = 'relu', input_dim =47))\n",
        "regressor_best.add(Dropout(0.01))\n",
        "\n",
        "regressor_best.add(Dense(units = 7, kernel_initializer = 'normal',activation = 'relu'))\n",
        "regressor_best.add(Dropout(0.01))\n",
        "\n",
        "regressor_best.add(Dense(units = 7, kernel_initializer = 'normal',activation = 'relu'))\n",
        "regressor_best.add(Dropout(0.01))\n",
        "\n",
        "regressor_best.add(Dense(units = 7, kernel_initializer = 'normal',activation = 'relu'))\n",
        "regressor_best.add(Dropout(0.01))\n",
        "\n",
        "regressor_best.add(Dense(units = 1, kernel_initializer = 'normal',activation = 'linear'))\n",
        "\n",
        "regressor_best.compile(optimizer = 'sgd', loss = 'mean_absolute_error', metrics = ['mean_absolute_error'])\n",
        "\n",
        "regressor_best.fit(X_train, y_train, batch_size = 4, epochs = 500)"
      ],
      "metadata": {
        "colab": {
          "base_uri": "https://localhost:8080/"
        },
        "id": "i-TG677rw_53",
        "outputId": "e29c031e-28db-4234-e5b9-90dd55c8fe3c"
      },
      "execution_count": 59,
      "outputs": [
        {
          "output_type": "stream",
          "name": "stdout",
          "text": [
            "Epoch 1/500\n",
            "1883/1883 [==============================] - 5s 2ms/step - loss: 1.3775 - mean_absolute_error: 1.3775\n",
            "Epoch 2/500\n",
            "1883/1883 [==============================] - 3s 2ms/step - loss: 0.4861 - mean_absolute_error: 0.4861\n",
            "Epoch 3/500\n",
            "1883/1883 [==============================] - 3s 2ms/step - loss: 0.4881 - mean_absolute_error: 0.4881\n",
            "Epoch 4/500\n",
            "1883/1883 [==============================] - 3s 2ms/step - loss: 0.4854 - mean_absolute_error: 0.4854\n",
            "Epoch 5/500\n",
            "1883/1883 [==============================] - 3s 2ms/step - loss: 0.4815 - mean_absolute_error: 0.4815\n",
            "Epoch 6/500\n",
            "1883/1883 [==============================] - 3s 2ms/step - loss: 0.4843 - mean_absolute_error: 0.4843\n",
            "Epoch 7/500\n",
            "1883/1883 [==============================] - 3s 2ms/step - loss: 0.4789 - mean_absolute_error: 0.4789\n",
            "Epoch 8/500\n",
            "1883/1883 [==============================] - 3s 2ms/step - loss: 0.4766 - mean_absolute_error: 0.4766\n",
            "Epoch 9/500\n",
            "1883/1883 [==============================] - 3s 2ms/step - loss: 0.4763 - mean_absolute_error: 0.4763\n",
            "Epoch 10/500\n",
            "1883/1883 [==============================] - 3s 2ms/step - loss: 0.4752 - mean_absolute_error: 0.4752\n",
            "Epoch 11/500\n",
            "1883/1883 [==============================] - 3s 2ms/step - loss: 0.4713 - mean_absolute_error: 0.4713\n",
            "Epoch 12/500\n",
            "1883/1883 [==============================] - 3s 2ms/step - loss: 0.4723 - mean_absolute_error: 0.4723\n",
            "Epoch 13/500\n",
            "1883/1883 [==============================] - 3s 2ms/step - loss: 0.4689 - mean_absolute_error: 0.4689\n",
            "Epoch 14/500\n",
            "1883/1883 [==============================] - 3s 2ms/step - loss: 0.4675 - mean_absolute_error: 0.4675\n",
            "Epoch 15/500\n",
            "1883/1883 [==============================] - 3s 2ms/step - loss: 0.4664 - mean_absolute_error: 0.4664\n",
            "Epoch 16/500\n",
            "1883/1883 [==============================] - 3s 2ms/step - loss: 0.4655 - mean_absolute_error: 0.4655\n",
            "Epoch 17/500\n",
            "1883/1883 [==============================] - 3s 2ms/step - loss: 0.4648 - mean_absolute_error: 0.4648\n",
            "Epoch 18/500\n",
            "1883/1883 [==============================] - 3s 2ms/step - loss: 0.4650 - mean_absolute_error: 0.4650\n",
            "Epoch 19/500\n",
            "1883/1883 [==============================] - 3s 2ms/step - loss: 0.4641 - mean_absolute_error: 0.4641\n",
            "Epoch 20/500\n",
            "1883/1883 [==============================] - 3s 2ms/step - loss: 0.4640 - mean_absolute_error: 0.4640\n",
            "Epoch 21/500\n",
            "1883/1883 [==============================] - 3s 2ms/step - loss: 0.4634 - mean_absolute_error: 0.4634\n",
            "Epoch 22/500\n",
            "1883/1883 [==============================] - 3s 2ms/step - loss: 0.4634 - mean_absolute_error: 0.4634\n",
            "Epoch 23/500\n",
            "1883/1883 [==============================] - 3s 2ms/step - loss: 0.4629 - mean_absolute_error: 0.4629\n",
            "Epoch 24/500\n",
            "1883/1883 [==============================] - 3s 2ms/step - loss: 0.4624 - mean_absolute_error: 0.4624\n",
            "Epoch 25/500\n",
            "1883/1883 [==============================] - 3s 2ms/step - loss: 0.4604 - mean_absolute_error: 0.4604\n",
            "Epoch 26/500\n",
            "1883/1883 [==============================] - 3s 2ms/step - loss: 0.4541 - mean_absolute_error: 0.4541\n",
            "Epoch 27/500\n",
            "1883/1883 [==============================] - 3s 2ms/step - loss: 0.4445 - mean_absolute_error: 0.4445\n",
            "Epoch 28/500\n",
            "1883/1883 [==============================] - 3s 2ms/step - loss: 0.4420 - mean_absolute_error: 0.4420\n",
            "Epoch 29/500\n",
            "1883/1883 [==============================] - 3s 2ms/step - loss: 0.4403 - mean_absolute_error: 0.4403\n",
            "Epoch 30/500\n",
            "1883/1883 [==============================] - 3s 2ms/step - loss: 0.4394 - mean_absolute_error: 0.4394\n",
            "Epoch 31/500\n",
            "1883/1883 [==============================] - 5s 3ms/step - loss: 0.4388 - mean_absolute_error: 0.4388\n",
            "Epoch 32/500\n",
            "1883/1883 [==============================] - 4s 2ms/step - loss: 0.4392 - mean_absolute_error: 0.4392\n",
            "Epoch 33/500\n",
            "1883/1883 [==============================] - 3s 2ms/step - loss: 0.4375 - mean_absolute_error: 0.4375\n",
            "Epoch 34/500\n",
            "1883/1883 [==============================] - 3s 2ms/step - loss: 0.4373 - mean_absolute_error: 0.4373\n",
            "Epoch 35/500\n",
            "1883/1883 [==============================] - 3s 2ms/step - loss: 0.4364 - mean_absolute_error: 0.4364\n",
            "Epoch 36/500\n",
            "1883/1883 [==============================] - 3s 2ms/step - loss: 0.4349 - mean_absolute_error: 0.4349\n",
            "Epoch 37/500\n",
            "1883/1883 [==============================] - 3s 2ms/step - loss: 0.4359 - mean_absolute_error: 0.4359\n",
            "Epoch 38/500\n",
            "1883/1883 [==============================] - 3s 2ms/step - loss: 0.4354 - mean_absolute_error: 0.4354\n",
            "Epoch 39/500\n",
            "1883/1883 [==============================] - 3s 2ms/step - loss: 0.4347 - mean_absolute_error: 0.4347\n",
            "Epoch 40/500\n",
            "1883/1883 [==============================] - 4s 2ms/step - loss: 0.4351 - mean_absolute_error: 0.4351\n",
            "Epoch 41/500\n",
            "1883/1883 [==============================] - 4s 2ms/step - loss: 0.4357 - mean_absolute_error: 0.4357\n",
            "Epoch 42/500\n",
            "1883/1883 [==============================] - 3s 2ms/step - loss: 0.4357 - mean_absolute_error: 0.4357\n",
            "Epoch 43/500\n",
            "1883/1883 [==============================] - 3s 2ms/step - loss: 0.4341 - mean_absolute_error: 0.4341\n",
            "Epoch 44/500\n",
            "1883/1883 [==============================] - 3s 2ms/step - loss: 0.4342 - mean_absolute_error: 0.4342\n",
            "Epoch 45/500\n",
            "1883/1883 [==============================] - 4s 2ms/step - loss: 0.4335 - mean_absolute_error: 0.4335\n",
            "Epoch 46/500\n",
            "1883/1883 [==============================] - 3s 2ms/step - loss: 0.4334 - mean_absolute_error: 0.4334\n",
            "Epoch 47/500\n",
            "1883/1883 [==============================] - 3s 2ms/step - loss: 0.4324 - mean_absolute_error: 0.4324\n",
            "Epoch 48/500\n",
            "1883/1883 [==============================] - 3s 2ms/step - loss: 0.4336 - mean_absolute_error: 0.4336\n",
            "Epoch 49/500\n",
            "1883/1883 [==============================] - 3s 2ms/step - loss: 0.4327 - mean_absolute_error: 0.4327\n",
            "Epoch 50/500\n",
            "1883/1883 [==============================] - 3s 2ms/step - loss: 0.4325 - mean_absolute_error: 0.4325\n",
            "Epoch 51/500\n",
            "1883/1883 [==============================] - 3s 2ms/step - loss: 0.4334 - mean_absolute_error: 0.4334\n",
            "Epoch 52/500\n",
            "1883/1883 [==============================] - 3s 2ms/step - loss: 0.4317 - mean_absolute_error: 0.4317\n",
            "Epoch 53/500\n",
            "1883/1883 [==============================] - 3s 2ms/step - loss: 0.4316 - mean_absolute_error: 0.4316\n",
            "Epoch 54/500\n",
            "1883/1883 [==============================] - 3s 2ms/step - loss: 0.4314 - mean_absolute_error: 0.4314\n",
            "Epoch 55/500\n",
            "1883/1883 [==============================] - 3s 2ms/step - loss: 0.4314 - mean_absolute_error: 0.4314\n",
            "Epoch 56/500\n",
            "1883/1883 [==============================] - 3s 2ms/step - loss: 0.4316 - mean_absolute_error: 0.4316\n",
            "Epoch 57/500\n",
            "1883/1883 [==============================] - 3s 2ms/step - loss: 0.4318 - mean_absolute_error: 0.4318\n",
            "Epoch 58/500\n",
            "1883/1883 [==============================] - 3s 2ms/step - loss: 0.4313 - mean_absolute_error: 0.4313\n",
            "Epoch 59/500\n",
            "1883/1883 [==============================] - 3s 2ms/step - loss: 0.4312 - mean_absolute_error: 0.4312\n",
            "Epoch 60/500\n",
            "1883/1883 [==============================] - 3s 2ms/step - loss: 0.4313 - mean_absolute_error: 0.4313\n",
            "Epoch 61/500\n",
            "1883/1883 [==============================] - 3s 2ms/step - loss: 0.4315 - mean_absolute_error: 0.4315\n",
            "Epoch 62/500\n",
            "1883/1883 [==============================] - 3s 2ms/step - loss: 0.4308 - mean_absolute_error: 0.4308\n",
            "Epoch 63/500\n",
            "1883/1883 [==============================] - 3s 2ms/step - loss: 0.4306 - mean_absolute_error: 0.4306\n",
            "Epoch 64/500\n",
            "1883/1883 [==============================] - 3s 2ms/step - loss: 0.4311 - mean_absolute_error: 0.4311\n",
            "Epoch 65/500\n",
            "1883/1883 [==============================] - 3s 2ms/step - loss: 0.4307 - mean_absolute_error: 0.4307\n",
            "Epoch 66/500\n",
            "1883/1883 [==============================] - 3s 2ms/step - loss: 0.4306 - mean_absolute_error: 0.4306\n",
            "Epoch 67/500\n",
            "1883/1883 [==============================] - 3s 2ms/step - loss: 0.4301 - mean_absolute_error: 0.4301\n",
            "Epoch 68/500\n",
            "1883/1883 [==============================] - 3s 2ms/step - loss: 0.4301 - mean_absolute_error: 0.4301\n",
            "Epoch 69/500\n",
            "1883/1883 [==============================] - 3s 2ms/step - loss: 0.4304 - mean_absolute_error: 0.4304\n",
            "Epoch 70/500\n",
            "1883/1883 [==============================] - 3s 2ms/step - loss: 0.4302 - mean_absolute_error: 0.4302\n",
            "Epoch 71/500\n",
            "1883/1883 [==============================] - 3s 2ms/step - loss: 0.4308 - mean_absolute_error: 0.4308\n",
            "Epoch 72/500\n",
            "1883/1883 [==============================] - 3s 2ms/step - loss: 0.4292 - mean_absolute_error: 0.4292\n",
            "Epoch 73/500\n",
            "1883/1883 [==============================] - 3s 2ms/step - loss: 0.4291 - mean_absolute_error: 0.4291\n",
            "Epoch 74/500\n",
            "1883/1883 [==============================] - 3s 2ms/step - loss: 0.4299 - mean_absolute_error: 0.4299\n",
            "Epoch 75/500\n",
            "1883/1883 [==============================] - 3s 2ms/step - loss: 0.4298 - mean_absolute_error: 0.4298\n",
            "Epoch 76/500\n",
            "1883/1883 [==============================] - 3s 2ms/step - loss: 0.4291 - mean_absolute_error: 0.4291\n",
            "Epoch 77/500\n",
            "1883/1883 [==============================] - 3s 2ms/step - loss: 0.4299 - mean_absolute_error: 0.4299\n",
            "Epoch 78/500\n",
            "1883/1883 [==============================] - 3s 2ms/step - loss: 0.4290 - mean_absolute_error: 0.4290\n",
            "Epoch 79/500\n",
            "1883/1883 [==============================] - 3s 2ms/step - loss: 0.4292 - mean_absolute_error: 0.4292\n",
            "Epoch 80/500\n",
            "1883/1883 [==============================] - 3s 2ms/step - loss: 0.4293 - mean_absolute_error: 0.4293\n",
            "Epoch 81/500\n",
            "1883/1883 [==============================] - 3s 2ms/step - loss: 0.4297 - mean_absolute_error: 0.4297\n",
            "Epoch 82/500\n",
            "1883/1883 [==============================] - 3s 2ms/step - loss: 0.4294 - mean_absolute_error: 0.4294\n",
            "Epoch 83/500\n",
            "1883/1883 [==============================] - 3s 2ms/step - loss: 0.4287 - mean_absolute_error: 0.4287\n",
            "Epoch 84/500\n",
            "1883/1883 [==============================] - 3s 2ms/step - loss: 0.4279 - mean_absolute_error: 0.4279\n",
            "Epoch 85/500\n",
            "1883/1883 [==============================] - 3s 2ms/step - loss: 0.4295 - mean_absolute_error: 0.4295\n",
            "Epoch 86/500\n",
            "1883/1883 [==============================] - 3s 2ms/step - loss: 0.4289 - mean_absolute_error: 0.4289\n",
            "Epoch 87/500\n",
            "1883/1883 [==============================] - 3s 2ms/step - loss: 0.4293 - mean_absolute_error: 0.4293\n",
            "Epoch 88/500\n",
            "1883/1883 [==============================] - 3s 2ms/step - loss: 0.4296 - mean_absolute_error: 0.4296\n",
            "Epoch 89/500\n",
            "1883/1883 [==============================] - 3s 2ms/step - loss: 0.4291 - mean_absolute_error: 0.4291\n",
            "Epoch 90/500\n",
            "1883/1883 [==============================] - 3s 2ms/step - loss: 0.4277 - mean_absolute_error: 0.4277\n",
            "Epoch 91/500\n",
            "1883/1883 [==============================] - 3s 2ms/step - loss: 0.4286 - mean_absolute_error: 0.4286\n",
            "Epoch 92/500\n",
            "1883/1883 [==============================] - 3s 2ms/step - loss: 0.4291 - mean_absolute_error: 0.4291\n",
            "Epoch 93/500\n",
            "1883/1883 [==============================] - 3s 2ms/step - loss: 0.4299 - mean_absolute_error: 0.4299\n",
            "Epoch 94/500\n",
            "1883/1883 [==============================] - 3s 2ms/step - loss: 0.4294 - mean_absolute_error: 0.4294\n",
            "Epoch 95/500\n",
            "1883/1883 [==============================] - 3s 2ms/step - loss: 0.4269 - mean_absolute_error: 0.4269\n",
            "Epoch 96/500\n",
            "1883/1883 [==============================] - 3s 2ms/step - loss: 0.4287 - mean_absolute_error: 0.4287\n",
            "Epoch 97/500\n",
            "1883/1883 [==============================] - 3s 2ms/step - loss: 0.4285 - mean_absolute_error: 0.4285\n",
            "Epoch 98/500\n",
            "1883/1883 [==============================] - 3s 2ms/step - loss: 0.4283 - mean_absolute_error: 0.4283\n",
            "Epoch 99/500\n",
            "1883/1883 [==============================] - 3s 2ms/step - loss: 0.4281 - mean_absolute_error: 0.4281\n",
            "Epoch 100/500\n",
            "1883/1883 [==============================] - 3s 2ms/step - loss: 0.4277 - mean_absolute_error: 0.4277\n",
            "Epoch 101/500\n",
            "1883/1883 [==============================] - 3s 2ms/step - loss: 0.4280 - mean_absolute_error: 0.4280\n",
            "Epoch 102/500\n",
            "1883/1883 [==============================] - 3s 2ms/step - loss: 0.4276 - mean_absolute_error: 0.4276\n",
            "Epoch 103/500\n",
            "1883/1883 [==============================] - 3s 2ms/step - loss: 0.4284 - mean_absolute_error: 0.4284\n",
            "Epoch 104/500\n",
            "1883/1883 [==============================] - 3s 2ms/step - loss: 0.4268 - mean_absolute_error: 0.4268\n",
            "Epoch 105/500\n",
            "1883/1883 [==============================] - 3s 2ms/step - loss: 0.4276 - mean_absolute_error: 0.4276\n",
            "Epoch 106/500\n",
            "1883/1883 [==============================] - 3s 2ms/step - loss: 0.4288 - mean_absolute_error: 0.4288\n",
            "Epoch 107/500\n",
            "1883/1883 [==============================] - 3s 2ms/step - loss: 0.4277 - mean_absolute_error: 0.4277\n",
            "Epoch 108/500\n",
            "1883/1883 [==============================] - 3s 2ms/step - loss: 0.4283 - mean_absolute_error: 0.4283\n",
            "Epoch 109/500\n",
            "1883/1883 [==============================] - 3s 2ms/step - loss: 0.4269 - mean_absolute_error: 0.4269\n",
            "Epoch 110/500\n",
            "1883/1883 [==============================] - 3s 2ms/step - loss: 0.4281 - mean_absolute_error: 0.4281\n",
            "Epoch 111/500\n",
            "1883/1883 [==============================] - 3s 2ms/step - loss: 0.4267 - mean_absolute_error: 0.4267\n",
            "Epoch 112/500\n",
            "1883/1883 [==============================] - 3s 2ms/step - loss: 0.4272 - mean_absolute_error: 0.4272\n",
            "Epoch 113/500\n",
            "1883/1883 [==============================] - 3s 2ms/step - loss: 0.4281 - mean_absolute_error: 0.4281\n",
            "Epoch 114/500\n",
            "1883/1883 [==============================] - 3s 2ms/step - loss: 0.4277 - mean_absolute_error: 0.4277\n",
            "Epoch 115/500\n",
            "1883/1883 [==============================] - 3s 2ms/step - loss: 0.4274 - mean_absolute_error: 0.4274\n",
            "Epoch 116/500\n",
            "1883/1883 [==============================] - 3s 2ms/step - loss: 0.4279 - mean_absolute_error: 0.4279\n",
            "Epoch 117/500\n",
            "1883/1883 [==============================] - 3s 2ms/step - loss: 0.4272 - mean_absolute_error: 0.4272\n",
            "Epoch 118/500\n",
            "1883/1883 [==============================] - 3s 2ms/step - loss: 0.4261 - mean_absolute_error: 0.4261\n",
            "Epoch 119/500\n",
            "1883/1883 [==============================] - 3s 2ms/step - loss: 0.4277 - mean_absolute_error: 0.4277\n",
            "Epoch 120/500\n",
            "1883/1883 [==============================] - 4s 2ms/step - loss: 0.4269 - mean_absolute_error: 0.4269\n",
            "Epoch 121/500\n",
            "1883/1883 [==============================] - 4s 2ms/step - loss: 0.4263 - mean_absolute_error: 0.4263\n",
            "Epoch 122/500\n",
            "1883/1883 [==============================] - 3s 2ms/step - loss: 0.4274 - mean_absolute_error: 0.4274\n",
            "Epoch 123/500\n",
            "1883/1883 [==============================] - 3s 2ms/step - loss: 0.4261 - mean_absolute_error: 0.4261\n",
            "Epoch 124/500\n",
            "1883/1883 [==============================] - 3s 2ms/step - loss: 0.4269 - mean_absolute_error: 0.4269\n",
            "Epoch 125/500\n",
            "1883/1883 [==============================] - 3s 2ms/step - loss: 0.4264 - mean_absolute_error: 0.4264\n",
            "Epoch 126/500\n",
            "1883/1883 [==============================] - 3s 2ms/step - loss: 0.4263 - mean_absolute_error: 0.4263\n",
            "Epoch 127/500\n",
            "1883/1883 [==============================] - 3s 2ms/step - loss: 0.4277 - mean_absolute_error: 0.4277\n",
            "Epoch 128/500\n",
            "1883/1883 [==============================] - 3s 2ms/step - loss: 0.4262 - mean_absolute_error: 0.4262\n",
            "Epoch 129/500\n",
            "1883/1883 [==============================] - 3s 2ms/step - loss: 0.4267 - mean_absolute_error: 0.4267\n",
            "Epoch 130/500\n",
            "1883/1883 [==============================] - 3s 2ms/step - loss: 0.4267 - mean_absolute_error: 0.4267\n",
            "Epoch 131/500\n",
            "1883/1883 [==============================] - 3s 2ms/step - loss: 0.4258 - mean_absolute_error: 0.4258\n",
            "Epoch 132/500\n",
            "1883/1883 [==============================] - 3s 2ms/step - loss: 0.4260 - mean_absolute_error: 0.4260\n",
            "Epoch 133/500\n",
            "1883/1883 [==============================] - 3s 2ms/step - loss: 0.4267 - mean_absolute_error: 0.4267\n",
            "Epoch 134/500\n",
            "1883/1883 [==============================] - 3s 2ms/step - loss: 0.4264 - mean_absolute_error: 0.4264\n",
            "Epoch 135/500\n",
            "1883/1883 [==============================] - 3s 2ms/step - loss: 0.4264 - mean_absolute_error: 0.4264\n",
            "Epoch 136/500\n",
            "1883/1883 [==============================] - 3s 2ms/step - loss: 0.4264 - mean_absolute_error: 0.4264\n",
            "Epoch 137/500\n",
            "1883/1883 [==============================] - 3s 2ms/step - loss: 0.4270 - mean_absolute_error: 0.4270\n",
            "Epoch 138/500\n",
            "1883/1883 [==============================] - 3s 2ms/step - loss: 0.4257 - mean_absolute_error: 0.4257\n",
            "Epoch 139/500\n",
            "1883/1883 [==============================] - 3s 2ms/step - loss: 0.4264 - mean_absolute_error: 0.4264\n",
            "Epoch 140/500\n",
            "1883/1883 [==============================] - 3s 2ms/step - loss: 0.4267 - mean_absolute_error: 0.4267\n",
            "Epoch 141/500\n",
            "1883/1883 [==============================] - 3s 2ms/step - loss: 0.4262 - mean_absolute_error: 0.4262\n",
            "Epoch 142/500\n",
            "1883/1883 [==============================] - 3s 2ms/step - loss: 0.4267 - mean_absolute_error: 0.4267\n",
            "Epoch 143/500\n",
            "1883/1883 [==============================] - 3s 2ms/step - loss: 0.4255 - mean_absolute_error: 0.4255\n",
            "Epoch 144/500\n",
            "1883/1883 [==============================] - 3s 2ms/step - loss: 0.4263 - mean_absolute_error: 0.4263\n",
            "Epoch 145/500\n",
            "1883/1883 [==============================] - 3s 2ms/step - loss: 0.4254 - mean_absolute_error: 0.4254\n",
            "Epoch 146/500\n",
            "1883/1883 [==============================] - 3s 2ms/step - loss: 0.4264 - mean_absolute_error: 0.4264\n",
            "Epoch 147/500\n",
            "1883/1883 [==============================] - 3s 2ms/step - loss: 0.4266 - mean_absolute_error: 0.4266\n",
            "Epoch 148/500\n",
            "1883/1883 [==============================] - 3s 2ms/step - loss: 0.4259 - mean_absolute_error: 0.4259\n",
            "Epoch 149/500\n",
            "1883/1883 [==============================] - 3s 2ms/step - loss: 0.4262 - mean_absolute_error: 0.4262\n",
            "Epoch 150/500\n",
            "1883/1883 [==============================] - 3s 2ms/step - loss: 0.4255 - mean_absolute_error: 0.4255\n",
            "Epoch 151/500\n",
            "1883/1883 [==============================] - 3s 2ms/step - loss: 0.4257 - mean_absolute_error: 0.4257\n",
            "Epoch 152/500\n",
            "1883/1883 [==============================] - 3s 2ms/step - loss: 0.4257 - mean_absolute_error: 0.4257\n",
            "Epoch 153/500\n",
            "1883/1883 [==============================] - 3s 2ms/step - loss: 0.4255 - mean_absolute_error: 0.4255\n",
            "Epoch 154/500\n",
            "1883/1883 [==============================] - 3s 2ms/step - loss: 0.4253 - mean_absolute_error: 0.4253\n",
            "Epoch 155/500\n",
            "1883/1883 [==============================] - 3s 2ms/step - loss: 0.4257 - mean_absolute_error: 0.4257\n",
            "Epoch 156/500\n",
            "1883/1883 [==============================] - 3s 2ms/step - loss: 0.4252 - mean_absolute_error: 0.4252\n",
            "Epoch 157/500\n",
            "1883/1883 [==============================] - 3s 2ms/step - loss: 0.4259 - mean_absolute_error: 0.4259\n",
            "Epoch 158/500\n",
            "1883/1883 [==============================] - 3s 2ms/step - loss: 0.4265 - mean_absolute_error: 0.4265\n",
            "Epoch 159/500\n",
            "1883/1883 [==============================] - 3s 2ms/step - loss: 0.4246 - mean_absolute_error: 0.4246\n",
            "Epoch 160/500\n",
            "1883/1883 [==============================] - 3s 2ms/step - loss: 0.4249 - mean_absolute_error: 0.4249\n",
            "Epoch 161/500\n",
            "1883/1883 [==============================] - 3s 2ms/step - loss: 0.4258 - mean_absolute_error: 0.4258\n",
            "Epoch 162/500\n",
            "1883/1883 [==============================] - 3s 2ms/step - loss: 0.4244 - mean_absolute_error: 0.4244\n",
            "Epoch 163/500\n",
            "1883/1883 [==============================] - 3s 2ms/step - loss: 0.4250 - mean_absolute_error: 0.4250\n",
            "Epoch 164/500\n",
            "1883/1883 [==============================] - 3s 2ms/step - loss: 0.4244 - mean_absolute_error: 0.4244\n",
            "Epoch 165/500\n",
            "1883/1883 [==============================] - 3s 2ms/step - loss: 0.4263 - mean_absolute_error: 0.4263\n",
            "Epoch 166/500\n",
            "1883/1883 [==============================] - 3s 2ms/step - loss: 0.4259 - mean_absolute_error: 0.4259\n",
            "Epoch 167/500\n",
            "1883/1883 [==============================] - 3s 2ms/step - loss: 0.4257 - mean_absolute_error: 0.4257\n",
            "Epoch 168/500\n",
            "1883/1883 [==============================] - 3s 2ms/step - loss: 0.4247 - mean_absolute_error: 0.4247\n",
            "Epoch 169/500\n",
            "1883/1883 [==============================] - 3s 2ms/step - loss: 0.4255 - mean_absolute_error: 0.4255\n",
            "Epoch 170/500\n",
            "1883/1883 [==============================] - 3s 2ms/step - loss: 0.4255 - mean_absolute_error: 0.4255\n",
            "Epoch 171/500\n",
            "1883/1883 [==============================] - 3s 2ms/step - loss: 0.4247 - mean_absolute_error: 0.4247\n",
            "Epoch 172/500\n",
            "1883/1883 [==============================] - 3s 2ms/step - loss: 0.4255 - mean_absolute_error: 0.4255\n",
            "Epoch 173/500\n",
            "1883/1883 [==============================] - 3s 2ms/step - loss: 0.4260 - mean_absolute_error: 0.4260\n",
            "Epoch 174/500\n",
            "1883/1883 [==============================] - 3s 2ms/step - loss: 0.4254 - mean_absolute_error: 0.4254\n",
            "Epoch 175/500\n",
            "1883/1883 [==============================] - 3s 2ms/step - loss: 0.4257 - mean_absolute_error: 0.4257\n",
            "Epoch 176/500\n",
            "1883/1883 [==============================] - 3s 2ms/step - loss: 0.4248 - mean_absolute_error: 0.4248\n",
            "Epoch 177/500\n",
            "1883/1883 [==============================] - 3s 2ms/step - loss: 0.4246 - mean_absolute_error: 0.4246\n",
            "Epoch 178/500\n",
            "1883/1883 [==============================] - 3s 2ms/step - loss: 0.4243 - mean_absolute_error: 0.4243\n",
            "Epoch 179/500\n",
            "1883/1883 [==============================] - 3s 2ms/step - loss: 0.4245 - mean_absolute_error: 0.4245\n",
            "Epoch 180/500\n",
            "1883/1883 [==============================] - 3s 2ms/step - loss: 0.4250 - mean_absolute_error: 0.4250\n",
            "Epoch 181/500\n",
            "1883/1883 [==============================] - 3s 2ms/step - loss: 0.4248 - mean_absolute_error: 0.4248\n",
            "Epoch 182/500\n",
            "1883/1883 [==============================] - 3s 2ms/step - loss: 0.4240 - mean_absolute_error: 0.4240\n",
            "Epoch 183/500\n",
            "1883/1883 [==============================] - 3s 2ms/step - loss: 0.4255 - mean_absolute_error: 0.4255\n",
            "Epoch 184/500\n",
            "1883/1883 [==============================] - 3s 2ms/step - loss: 0.4242 - mean_absolute_error: 0.4242\n",
            "Epoch 185/500\n",
            "1883/1883 [==============================] - 3s 2ms/step - loss: 0.4246 - mean_absolute_error: 0.4246\n",
            "Epoch 186/500\n",
            "1883/1883 [==============================] - 3s 2ms/step - loss: 0.4244 - mean_absolute_error: 0.4244\n",
            "Epoch 187/500\n",
            "1883/1883 [==============================] - 3s 2ms/step - loss: 0.4248 - mean_absolute_error: 0.4248\n",
            "Epoch 188/500\n",
            "1883/1883 [==============================] - 3s 2ms/step - loss: 0.4244 - mean_absolute_error: 0.4244\n",
            "Epoch 189/500\n",
            "1883/1883 [==============================] - 3s 2ms/step - loss: 0.4249 - mean_absolute_error: 0.4249\n",
            "Epoch 190/500\n",
            "1883/1883 [==============================] - 3s 2ms/step - loss: 0.4244 - mean_absolute_error: 0.4244\n",
            "Epoch 191/500\n",
            "1883/1883 [==============================] - 3s 2ms/step - loss: 0.4243 - mean_absolute_error: 0.4243\n",
            "Epoch 192/500\n",
            "1883/1883 [==============================] - 3s 2ms/step - loss: 0.4248 - mean_absolute_error: 0.4248\n",
            "Epoch 193/500\n",
            "1883/1883 [==============================] - 3s 2ms/step - loss: 0.4231 - mean_absolute_error: 0.4231\n",
            "Epoch 194/500\n",
            "1883/1883 [==============================] - 3s 2ms/step - loss: 0.4238 - mean_absolute_error: 0.4238\n",
            "Epoch 195/500\n",
            "1883/1883 [==============================] - 3s 2ms/step - loss: 0.4228 - mean_absolute_error: 0.4228\n",
            "Epoch 196/500\n",
            "1883/1883 [==============================] - 3s 2ms/step - loss: 0.4244 - mean_absolute_error: 0.4244\n",
            "Epoch 197/500\n",
            "1883/1883 [==============================] - 3s 2ms/step - loss: 0.4235 - mean_absolute_error: 0.4235\n",
            "Epoch 198/500\n",
            "1883/1883 [==============================] - 3s 2ms/step - loss: 0.4237 - mean_absolute_error: 0.4237\n",
            "Epoch 199/500\n",
            "1883/1883 [==============================] - 3s 2ms/step - loss: 0.4241 - mean_absolute_error: 0.4241\n",
            "Epoch 200/500\n",
            "1883/1883 [==============================] - 4s 2ms/step - loss: 0.4232 - mean_absolute_error: 0.4232\n",
            "Epoch 201/500\n",
            "1883/1883 [==============================] - 4s 2ms/step - loss: 0.4239 - mean_absolute_error: 0.4239\n",
            "Epoch 202/500\n",
            "1883/1883 [==============================] - 3s 2ms/step - loss: 0.4228 - mean_absolute_error: 0.4228\n",
            "Epoch 203/500\n",
            "1883/1883 [==============================] - 3s 2ms/step - loss: 0.4247 - mean_absolute_error: 0.4247\n",
            "Epoch 204/500\n",
            "1883/1883 [==============================] - 3s 2ms/step - loss: 0.4239 - mean_absolute_error: 0.4239\n",
            "Epoch 205/500\n",
            "1883/1883 [==============================] - 3s 2ms/step - loss: 0.4237 - mean_absolute_error: 0.4237\n",
            "Epoch 206/500\n",
            "1883/1883 [==============================] - 3s 2ms/step - loss: 0.4248 - mean_absolute_error: 0.4248\n",
            "Epoch 207/500\n",
            "1883/1883 [==============================] - 3s 2ms/step - loss: 0.4237 - mean_absolute_error: 0.4237\n",
            "Epoch 208/500\n",
            "1883/1883 [==============================] - 3s 2ms/step - loss: 0.4230 - mean_absolute_error: 0.4230\n",
            "Epoch 209/500\n",
            "1883/1883 [==============================] - 3s 2ms/step - loss: 0.4235 - mean_absolute_error: 0.4235\n",
            "Epoch 210/500\n",
            "1883/1883 [==============================] - 3s 2ms/step - loss: 0.4234 - mean_absolute_error: 0.4234\n",
            "Epoch 211/500\n",
            "1883/1883 [==============================] - 3s 2ms/step - loss: 0.4230 - mean_absolute_error: 0.4230\n",
            "Epoch 212/500\n",
            "1883/1883 [==============================] - 3s 2ms/step - loss: 0.4233 - mean_absolute_error: 0.4233\n",
            "Epoch 213/500\n",
            "1883/1883 [==============================] - 3s 2ms/step - loss: 0.4228 - mean_absolute_error: 0.4228\n",
            "Epoch 214/500\n",
            "1883/1883 [==============================] - 3s 2ms/step - loss: 0.4239 - mean_absolute_error: 0.4239\n",
            "Epoch 215/500\n",
            "1883/1883 [==============================] - 3s 2ms/step - loss: 0.4237 - mean_absolute_error: 0.4237\n",
            "Epoch 216/500\n",
            "1883/1883 [==============================] - 3s 2ms/step - loss: 0.4222 - mean_absolute_error: 0.4222\n",
            "Epoch 217/500\n",
            "1883/1883 [==============================] - 3s 2ms/step - loss: 0.4228 - mean_absolute_error: 0.4228\n",
            "Epoch 218/500\n",
            "1883/1883 [==============================] - 3s 2ms/step - loss: 0.4230 - mean_absolute_error: 0.4230\n",
            "Epoch 219/500\n",
            "1883/1883 [==============================] - 3s 2ms/step - loss: 0.4241 - mean_absolute_error: 0.4241\n",
            "Epoch 220/500\n",
            "1883/1883 [==============================] - 3s 2ms/step - loss: 0.4241 - mean_absolute_error: 0.4241\n",
            "Epoch 221/500\n",
            "1883/1883 [==============================] - 3s 2ms/step - loss: 0.4239 - mean_absolute_error: 0.4239\n",
            "Epoch 222/500\n",
            "1883/1883 [==============================] - 3s 2ms/step - loss: 0.4232 - mean_absolute_error: 0.4232\n",
            "Epoch 223/500\n",
            "1883/1883 [==============================] - 3s 2ms/step - loss: 0.4228 - mean_absolute_error: 0.4228\n",
            "Epoch 224/500\n",
            "1883/1883 [==============================] - 3s 2ms/step - loss: 0.4240 - mean_absolute_error: 0.4240\n",
            "Epoch 225/500\n",
            "1883/1883 [==============================] - 3s 2ms/step - loss: 0.4230 - mean_absolute_error: 0.4230\n",
            "Epoch 226/500\n",
            "1883/1883 [==============================] - 3s 2ms/step - loss: 0.4231 - mean_absolute_error: 0.4231\n",
            "Epoch 227/500\n",
            "1883/1883 [==============================] - 3s 2ms/step - loss: 0.4224 - mean_absolute_error: 0.4224\n",
            "Epoch 228/500\n",
            "1883/1883 [==============================] - 3s 2ms/step - loss: 0.4232 - mean_absolute_error: 0.4232\n",
            "Epoch 229/500\n",
            "1883/1883 [==============================] - 3s 2ms/step - loss: 0.4239 - mean_absolute_error: 0.4239\n",
            "Epoch 230/500\n",
            "1883/1883 [==============================] - 3s 2ms/step - loss: 0.4228 - mean_absolute_error: 0.4228\n",
            "Epoch 231/500\n",
            "1883/1883 [==============================] - 3s 2ms/step - loss: 0.4222 - mean_absolute_error: 0.4222\n",
            "Epoch 232/500\n",
            "1883/1883 [==============================] - 3s 2ms/step - loss: 0.4232 - mean_absolute_error: 0.4232\n",
            "Epoch 233/500\n",
            "1883/1883 [==============================] - 3s 2ms/step - loss: 0.4229 - mean_absolute_error: 0.4229\n",
            "Epoch 234/500\n",
            "1883/1883 [==============================] - 3s 2ms/step - loss: 0.4228 - mean_absolute_error: 0.4228\n",
            "Epoch 235/500\n",
            "1883/1883 [==============================] - 3s 2ms/step - loss: 0.4225 - mean_absolute_error: 0.4225\n",
            "Epoch 236/500\n",
            "1883/1883 [==============================] - 3s 2ms/step - loss: 0.4223 - mean_absolute_error: 0.4223\n",
            "Epoch 237/500\n",
            "1883/1883 [==============================] - 3s 2ms/step - loss: 0.4214 - mean_absolute_error: 0.4214\n",
            "Epoch 238/500\n",
            "1883/1883 [==============================] - 3s 2ms/step - loss: 0.4229 - mean_absolute_error: 0.4229\n",
            "Epoch 239/500\n",
            "1883/1883 [==============================] - 3s 2ms/step - loss: 0.4232 - mean_absolute_error: 0.4232\n",
            "Epoch 240/500\n",
            "1883/1883 [==============================] - 3s 2ms/step - loss: 0.4220 - mean_absolute_error: 0.4220\n",
            "Epoch 241/500\n",
            "1883/1883 [==============================] - 3s 2ms/step - loss: 0.4217 - mean_absolute_error: 0.4217\n",
            "Epoch 242/500\n",
            "1883/1883 [==============================] - 3s 2ms/step - loss: 0.4237 - mean_absolute_error: 0.4237\n",
            "Epoch 243/500\n",
            "1883/1883 [==============================] - 3s 2ms/step - loss: 0.4234 - mean_absolute_error: 0.4234\n",
            "Epoch 244/500\n",
            "1883/1883 [==============================] - 3s 2ms/step - loss: 0.4236 - mean_absolute_error: 0.4236\n",
            "Epoch 245/500\n",
            "1883/1883 [==============================] - 3s 2ms/step - loss: 0.4225 - mean_absolute_error: 0.4225\n",
            "Epoch 246/500\n",
            "1883/1883 [==============================] - 3s 2ms/step - loss: 0.4227 - mean_absolute_error: 0.4227\n",
            "Epoch 247/500\n",
            "1883/1883 [==============================] - 3s 2ms/step - loss: 0.4220 - mean_absolute_error: 0.4220\n",
            "Epoch 248/500\n",
            "1883/1883 [==============================] - 3s 2ms/step - loss: 0.4224 - mean_absolute_error: 0.4224\n",
            "Epoch 249/500\n",
            "1883/1883 [==============================] - 3s 2ms/step - loss: 0.4224 - mean_absolute_error: 0.4224\n",
            "Epoch 250/500\n",
            "1883/1883 [==============================] - 3s 2ms/step - loss: 0.4216 - mean_absolute_error: 0.4216\n",
            "Epoch 251/500\n",
            "1883/1883 [==============================] - 3s 2ms/step - loss: 0.4215 - mean_absolute_error: 0.4215\n",
            "Epoch 252/500\n",
            "1883/1883 [==============================] - 3s 2ms/step - loss: 0.4219 - mean_absolute_error: 0.4219\n",
            "Epoch 253/500\n",
            "1883/1883 [==============================] - 3s 2ms/step - loss: 0.4219 - mean_absolute_error: 0.4219\n",
            "Epoch 254/500\n",
            "1883/1883 [==============================] - 3s 2ms/step - loss: 0.4213 - mean_absolute_error: 0.4213\n",
            "Epoch 255/500\n",
            "1883/1883 [==============================] - 3s 2ms/step - loss: 0.4225 - mean_absolute_error: 0.4225\n",
            "Epoch 256/500\n",
            "1883/1883 [==============================] - 3s 2ms/step - loss: 0.4226 - mean_absolute_error: 0.4226\n",
            "Epoch 257/500\n",
            "1883/1883 [==============================] - 3s 2ms/step - loss: 0.4210 - mean_absolute_error: 0.4210\n",
            "Epoch 258/500\n",
            "1883/1883 [==============================] - 3s 2ms/step - loss: 0.4211 - mean_absolute_error: 0.4211\n",
            "Epoch 259/500\n",
            "1883/1883 [==============================] - 3s 2ms/step - loss: 0.4212 - mean_absolute_error: 0.4212\n",
            "Epoch 260/500\n",
            "1883/1883 [==============================] - 3s 2ms/step - loss: 0.4229 - mean_absolute_error: 0.4229\n",
            "Epoch 261/500\n",
            "1883/1883 [==============================] - 3s 2ms/step - loss: 0.4215 - mean_absolute_error: 0.4215\n",
            "Epoch 262/500\n",
            "1883/1883 [==============================] - 3s 2ms/step - loss: 0.4222 - mean_absolute_error: 0.4222\n",
            "Epoch 263/500\n",
            "1883/1883 [==============================] - 3s 2ms/step - loss: 0.4219 - mean_absolute_error: 0.4219\n",
            "Epoch 264/500\n",
            "1883/1883 [==============================] - 3s 2ms/step - loss: 0.4214 - mean_absolute_error: 0.4214\n",
            "Epoch 265/500\n",
            "1883/1883 [==============================] - 3s 2ms/step - loss: 0.4209 - mean_absolute_error: 0.4209\n",
            "Epoch 266/500\n",
            "1883/1883 [==============================] - 3s 2ms/step - loss: 0.4208 - mean_absolute_error: 0.4208\n",
            "Epoch 267/500\n",
            "1883/1883 [==============================] - 3s 2ms/step - loss: 0.4232 - mean_absolute_error: 0.4232\n",
            "Epoch 268/500\n",
            "1883/1883 [==============================] - 3s 2ms/step - loss: 0.4226 - mean_absolute_error: 0.4226\n",
            "Epoch 269/500\n",
            "1883/1883 [==============================] - 3s 2ms/step - loss: 0.4212 - mean_absolute_error: 0.4212\n",
            "Epoch 270/500\n",
            "1883/1883 [==============================] - 3s 2ms/step - loss: 0.4220 - mean_absolute_error: 0.4220\n",
            "Epoch 271/500\n",
            "1883/1883 [==============================] - 3s 2ms/step - loss: 0.4217 - mean_absolute_error: 0.4217\n",
            "Epoch 272/500\n",
            "1883/1883 [==============================] - 3s 2ms/step - loss: 0.4206 - mean_absolute_error: 0.4206\n",
            "Epoch 273/500\n",
            "1883/1883 [==============================] - 3s 2ms/step - loss: 0.4223 - mean_absolute_error: 0.4223\n",
            "Epoch 274/500\n",
            "1883/1883 [==============================] - 3s 2ms/step - loss: 0.4225 - mean_absolute_error: 0.4225\n",
            "Epoch 275/500\n",
            "1883/1883 [==============================] - 3s 2ms/step - loss: 0.4208 - mean_absolute_error: 0.4208\n",
            "Epoch 276/500\n",
            "1883/1883 [==============================] - 3s 2ms/step - loss: 0.4219 - mean_absolute_error: 0.4219\n",
            "Epoch 277/500\n",
            "1883/1883 [==============================] - 3s 2ms/step - loss: 0.4207 - mean_absolute_error: 0.4207\n",
            "Epoch 278/500\n",
            "1883/1883 [==============================] - 3s 2ms/step - loss: 0.4214 - mean_absolute_error: 0.4214\n",
            "Epoch 279/500\n",
            "1883/1883 [==============================] - 4s 2ms/step - loss: 0.4213 - mean_absolute_error: 0.4213\n",
            "Epoch 280/500\n",
            "1883/1883 [==============================] - 5s 2ms/step - loss: 0.4214 - mean_absolute_error: 0.4214\n",
            "Epoch 281/500\n",
            "1883/1883 [==============================] - 3s 2ms/step - loss: 0.4214 - mean_absolute_error: 0.4214\n",
            "Epoch 282/500\n",
            "1883/1883 [==============================] - 3s 2ms/step - loss: 0.4208 - mean_absolute_error: 0.4208\n",
            "Epoch 283/500\n",
            "1883/1883 [==============================] - 3s 2ms/step - loss: 0.4204 - mean_absolute_error: 0.4204\n",
            "Epoch 284/500\n",
            "1883/1883 [==============================] - 3s 2ms/step - loss: 0.4213 - mean_absolute_error: 0.4213\n",
            "Epoch 285/500\n",
            "1883/1883 [==============================] - 3s 2ms/step - loss: 0.4210 - mean_absolute_error: 0.4210\n",
            "Epoch 286/500\n",
            "1883/1883 [==============================] - 3s 2ms/step - loss: 0.4211 - mean_absolute_error: 0.4211\n",
            "Epoch 287/500\n",
            "1883/1883 [==============================] - 3s 2ms/step - loss: 0.4200 - mean_absolute_error: 0.4200\n",
            "Epoch 288/500\n",
            "1883/1883 [==============================] - 3s 2ms/step - loss: 0.4209 - mean_absolute_error: 0.4209\n",
            "Epoch 289/500\n",
            "1883/1883 [==============================] - 3s 2ms/step - loss: 0.4214 - mean_absolute_error: 0.4214\n",
            "Epoch 290/500\n",
            "1883/1883 [==============================] - 3s 2ms/step - loss: 0.4219 - mean_absolute_error: 0.4219\n",
            "Epoch 291/500\n",
            "1883/1883 [==============================] - 3s 2ms/step - loss: 0.4206 - mean_absolute_error: 0.4206\n",
            "Epoch 292/500\n",
            "1883/1883 [==============================] - 3s 2ms/step - loss: 0.4208 - mean_absolute_error: 0.4208\n",
            "Epoch 293/500\n",
            "1883/1883 [==============================] - 3s 2ms/step - loss: 0.4210 - mean_absolute_error: 0.4210\n",
            "Epoch 294/500\n",
            "1883/1883 [==============================] - 3s 2ms/step - loss: 0.4199 - mean_absolute_error: 0.4199\n",
            "Epoch 295/500\n",
            "1883/1883 [==============================] - 3s 2ms/step - loss: 0.4210 - mean_absolute_error: 0.4210\n",
            "Epoch 296/500\n",
            "1883/1883 [==============================] - 3s 2ms/step - loss: 0.4206 - mean_absolute_error: 0.4206\n",
            "Epoch 297/500\n",
            "1883/1883 [==============================] - 3s 2ms/step - loss: 0.4211 - mean_absolute_error: 0.4211\n",
            "Epoch 298/500\n",
            "1883/1883 [==============================] - 3s 2ms/step - loss: 0.4199 - mean_absolute_error: 0.4199\n",
            "Epoch 299/500\n",
            "1883/1883 [==============================] - 3s 2ms/step - loss: 0.4198 - mean_absolute_error: 0.4198\n",
            "Epoch 300/500\n",
            "1883/1883 [==============================] - 3s 2ms/step - loss: 0.4220 - mean_absolute_error: 0.4220\n",
            "Epoch 301/500\n",
            "1883/1883 [==============================] - 3s 2ms/step - loss: 0.4208 - mean_absolute_error: 0.4208\n",
            "Epoch 302/500\n",
            "1883/1883 [==============================] - 3s 2ms/step - loss: 0.4192 - mean_absolute_error: 0.4192\n",
            "Epoch 303/500\n",
            "1883/1883 [==============================] - 3s 2ms/step - loss: 0.4203 - mean_absolute_error: 0.4203\n",
            "Epoch 304/500\n",
            "1883/1883 [==============================] - 3s 2ms/step - loss: 0.4206 - mean_absolute_error: 0.4206\n",
            "Epoch 305/500\n",
            "1883/1883 [==============================] - 3s 2ms/step - loss: 0.4208 - mean_absolute_error: 0.4208\n",
            "Epoch 306/500\n",
            "1883/1883 [==============================] - 3s 2ms/step - loss: 0.4221 - mean_absolute_error: 0.4221\n",
            "Epoch 307/500\n",
            "1883/1883 [==============================] - 3s 2ms/step - loss: 0.4208 - mean_absolute_error: 0.4208\n",
            "Epoch 308/500\n",
            "1883/1883 [==============================] - 3s 2ms/step - loss: 0.4191 - mean_absolute_error: 0.4191\n",
            "Epoch 309/500\n",
            "1883/1883 [==============================] - 3s 2ms/step - loss: 0.4196 - mean_absolute_error: 0.4196\n",
            "Epoch 310/500\n",
            "1883/1883 [==============================] - 3s 2ms/step - loss: 0.4198 - mean_absolute_error: 0.4198\n",
            "Epoch 311/500\n",
            "1883/1883 [==============================] - 3s 2ms/step - loss: 0.4194 - mean_absolute_error: 0.4194\n",
            "Epoch 312/500\n",
            "1883/1883 [==============================] - 3s 2ms/step - loss: 0.4186 - mean_absolute_error: 0.4186\n",
            "Epoch 313/500\n",
            "1883/1883 [==============================] - 3s 2ms/step - loss: 0.4192 - mean_absolute_error: 0.4192\n",
            "Epoch 314/500\n",
            "1883/1883 [==============================] - 3s 2ms/step - loss: 0.4188 - mean_absolute_error: 0.4188\n",
            "Epoch 315/500\n",
            "1883/1883 [==============================] - 3s 2ms/step - loss: 0.4200 - mean_absolute_error: 0.4200\n",
            "Epoch 316/500\n",
            "1883/1883 [==============================] - 3s 2ms/step - loss: 0.4198 - mean_absolute_error: 0.4198\n",
            "Epoch 317/500\n",
            "1883/1883 [==============================] - 3s 2ms/step - loss: 0.4192 - mean_absolute_error: 0.4192\n",
            "Epoch 318/500\n",
            "1883/1883 [==============================] - 3s 2ms/step - loss: 0.4194 - mean_absolute_error: 0.4194\n",
            "Epoch 319/500\n",
            "1883/1883 [==============================] - 3s 2ms/step - loss: 0.4198 - mean_absolute_error: 0.4198\n",
            "Epoch 320/500\n",
            "1883/1883 [==============================] - 3s 2ms/step - loss: 0.4205 - mean_absolute_error: 0.4205\n",
            "Epoch 321/500\n",
            "1883/1883 [==============================] - 3s 2ms/step - loss: 0.4198 - mean_absolute_error: 0.4198\n",
            "Epoch 322/500\n",
            "1883/1883 [==============================] - 3s 2ms/step - loss: 0.4194 - mean_absolute_error: 0.4194\n",
            "Epoch 323/500\n",
            "1883/1883 [==============================] - 3s 2ms/step - loss: 0.4190 - mean_absolute_error: 0.4190\n",
            "Epoch 324/500\n",
            "1883/1883 [==============================] - 3s 2ms/step - loss: 0.4192 - mean_absolute_error: 0.4192\n",
            "Epoch 325/500\n",
            "1883/1883 [==============================] - 3s 2ms/step - loss: 0.4186 - mean_absolute_error: 0.4186\n",
            "Epoch 326/500\n",
            "1883/1883 [==============================] - 3s 2ms/step - loss: 0.4199 - mean_absolute_error: 0.4199\n",
            "Epoch 327/500\n",
            "1883/1883 [==============================] - 3s 2ms/step - loss: 0.4200 - mean_absolute_error: 0.4200\n",
            "Epoch 328/500\n",
            "1883/1883 [==============================] - 3s 2ms/step - loss: 0.4197 - mean_absolute_error: 0.4197\n",
            "Epoch 329/500\n",
            "1883/1883 [==============================] - 3s 2ms/step - loss: 0.4188 - mean_absolute_error: 0.4188\n",
            "Epoch 330/500\n",
            "1883/1883 [==============================] - 3s 2ms/step - loss: 0.4198 - mean_absolute_error: 0.4198\n",
            "Epoch 331/500\n",
            "1883/1883 [==============================] - 3s 2ms/step - loss: 0.4195 - mean_absolute_error: 0.4195\n",
            "Epoch 332/500\n",
            "1883/1883 [==============================] - 3s 2ms/step - loss: 0.4192 - mean_absolute_error: 0.4192\n",
            "Epoch 333/500\n",
            "1883/1883 [==============================] - 3s 2ms/step - loss: 0.4195 - mean_absolute_error: 0.4195\n",
            "Epoch 334/500\n",
            "1883/1883 [==============================] - 3s 2ms/step - loss: 0.4199 - mean_absolute_error: 0.4199\n",
            "Epoch 335/500\n",
            "1883/1883 [==============================] - 3s 2ms/step - loss: 0.4190 - mean_absolute_error: 0.4190\n",
            "Epoch 336/500\n",
            "1883/1883 [==============================] - 3s 2ms/step - loss: 0.4186 - mean_absolute_error: 0.4186\n",
            "Epoch 337/500\n",
            "1883/1883 [==============================] - 3s 2ms/step - loss: 0.4185 - mean_absolute_error: 0.4185\n",
            "Epoch 338/500\n",
            "1883/1883 [==============================] - 3s 2ms/step - loss: 0.4198 - mean_absolute_error: 0.4198\n",
            "Epoch 339/500\n",
            "1883/1883 [==============================] - 3s 2ms/step - loss: 0.4196 - mean_absolute_error: 0.4196\n",
            "Epoch 340/500\n",
            "1883/1883 [==============================] - 3s 2ms/step - loss: 0.4186 - mean_absolute_error: 0.4186\n",
            "Epoch 341/500\n",
            "1883/1883 [==============================] - 3s 2ms/step - loss: 0.4188 - mean_absolute_error: 0.4188\n",
            "Epoch 342/500\n",
            "1883/1883 [==============================] - 3s 2ms/step - loss: 0.4201 - mean_absolute_error: 0.4201\n",
            "Epoch 343/500\n",
            "1883/1883 [==============================] - 3s 2ms/step - loss: 0.4187 - mean_absolute_error: 0.4187\n",
            "Epoch 344/500\n",
            "1883/1883 [==============================] - 3s 2ms/step - loss: 0.4203 - mean_absolute_error: 0.4203\n",
            "Epoch 345/500\n",
            "1883/1883 [==============================] - 3s 2ms/step - loss: 0.4194 - mean_absolute_error: 0.4194\n",
            "Epoch 346/500\n",
            "1883/1883 [==============================] - 3s 2ms/step - loss: 0.4196 - mean_absolute_error: 0.4196\n",
            "Epoch 347/500\n",
            "1883/1883 [==============================] - 3s 2ms/step - loss: 0.4202 - mean_absolute_error: 0.4202\n",
            "Epoch 348/500\n",
            "1883/1883 [==============================] - 3s 2ms/step - loss: 0.4199 - mean_absolute_error: 0.4199\n",
            "Epoch 349/500\n",
            "1883/1883 [==============================] - 3s 2ms/step - loss: 0.4191 - mean_absolute_error: 0.4191\n",
            "Epoch 350/500\n",
            "1883/1883 [==============================] - 3s 2ms/step - loss: 0.4188 - mean_absolute_error: 0.4188\n",
            "Epoch 351/500\n",
            "1883/1883 [==============================] - 3s 2ms/step - loss: 0.4179 - mean_absolute_error: 0.4179\n",
            "Epoch 352/500\n",
            "1883/1883 [==============================] - 3s 2ms/step - loss: 0.4194 - mean_absolute_error: 0.4194\n",
            "Epoch 353/500\n",
            "1883/1883 [==============================] - 3s 2ms/step - loss: 0.4182 - mean_absolute_error: 0.4182\n",
            "Epoch 354/500\n",
            "1883/1883 [==============================] - 3s 2ms/step - loss: 0.4185 - mean_absolute_error: 0.4185\n",
            "Epoch 355/500\n",
            "1883/1883 [==============================] - 3s 2ms/step - loss: 0.4190 - mean_absolute_error: 0.4190\n",
            "Epoch 356/500\n",
            "1883/1883 [==============================] - 3s 2ms/step - loss: 0.4182 - mean_absolute_error: 0.4182\n",
            "Epoch 357/500\n",
            "1883/1883 [==============================] - 3s 2ms/step - loss: 0.4172 - mean_absolute_error: 0.4172\n",
            "Epoch 358/500\n",
            "1883/1883 [==============================] - 3s 2ms/step - loss: 0.4185 - mean_absolute_error: 0.4185\n",
            "Epoch 359/500\n",
            "1883/1883 [==============================] - 3s 2ms/step - loss: 0.4192 - mean_absolute_error: 0.4192\n",
            "Epoch 360/500\n",
            "1883/1883 [==============================] - 4s 2ms/step - loss: 0.4181 - mean_absolute_error: 0.4181\n",
            "Epoch 361/500\n",
            "1883/1883 [==============================] - 4s 2ms/step - loss: 0.4200 - mean_absolute_error: 0.4200\n",
            "Epoch 362/500\n",
            "1883/1883 [==============================] - 3s 2ms/step - loss: 0.4182 - mean_absolute_error: 0.4182\n",
            "Epoch 363/500\n",
            "1883/1883 [==============================] - 3s 2ms/step - loss: 0.4180 - mean_absolute_error: 0.4180\n",
            "Epoch 364/500\n",
            "1883/1883 [==============================] - 3s 2ms/step - loss: 0.4180 - mean_absolute_error: 0.4180\n",
            "Epoch 365/500\n",
            "1883/1883 [==============================] - 3s 2ms/step - loss: 0.4191 - mean_absolute_error: 0.4191\n",
            "Epoch 366/500\n",
            "1883/1883 [==============================] - 3s 2ms/step - loss: 0.4185 - mean_absolute_error: 0.4185\n",
            "Epoch 367/500\n",
            "1883/1883 [==============================] - 3s 2ms/step - loss: 0.4192 - mean_absolute_error: 0.4192\n",
            "Epoch 368/500\n",
            "1883/1883 [==============================] - 3s 2ms/step - loss: 0.4185 - mean_absolute_error: 0.4185\n",
            "Epoch 369/500\n",
            "1883/1883 [==============================] - 3s 2ms/step - loss: 0.4187 - mean_absolute_error: 0.4187\n",
            "Epoch 370/500\n",
            "1883/1883 [==============================] - 3s 2ms/step - loss: 0.4186 - mean_absolute_error: 0.4186\n",
            "Epoch 371/500\n",
            "1883/1883 [==============================] - 3s 2ms/step - loss: 0.4176 - mean_absolute_error: 0.4176\n",
            "Epoch 372/500\n",
            "1883/1883 [==============================] - 3s 2ms/step - loss: 0.4182 - mean_absolute_error: 0.4182\n",
            "Epoch 373/500\n",
            "1883/1883 [==============================] - 3s 2ms/step - loss: 0.4175 - mean_absolute_error: 0.4175\n",
            "Epoch 374/500\n",
            "1883/1883 [==============================] - 3s 2ms/step - loss: 0.4182 - mean_absolute_error: 0.4182\n",
            "Epoch 375/500\n",
            "1883/1883 [==============================] - 3s 2ms/step - loss: 0.4174 - mean_absolute_error: 0.4174\n",
            "Epoch 376/500\n",
            "1883/1883 [==============================] - 3s 2ms/step - loss: 0.4187 - mean_absolute_error: 0.4187\n",
            "Epoch 377/500\n",
            "1883/1883 [==============================] - 3s 2ms/step - loss: 0.4180 - mean_absolute_error: 0.4180\n",
            "Epoch 378/500\n",
            "1883/1883 [==============================] - 3s 2ms/step - loss: 0.4184 - mean_absolute_error: 0.4184\n",
            "Epoch 379/500\n",
            "1883/1883 [==============================] - 3s 2ms/step - loss: 0.4187 - mean_absolute_error: 0.4187\n",
            "Epoch 380/500\n",
            "1883/1883 [==============================] - 3s 2ms/step - loss: 0.4180 - mean_absolute_error: 0.4180\n",
            "Epoch 381/500\n",
            "1883/1883 [==============================] - 3s 2ms/step - loss: 0.4186 - mean_absolute_error: 0.4186\n",
            "Epoch 382/500\n",
            "1883/1883 [==============================] - 3s 2ms/step - loss: 0.4175 - mean_absolute_error: 0.4175\n",
            "Epoch 383/500\n",
            "1883/1883 [==============================] - 3s 2ms/step - loss: 0.4193 - mean_absolute_error: 0.4193\n",
            "Epoch 384/500\n",
            "1883/1883 [==============================] - 3s 2ms/step - loss: 0.4168 - mean_absolute_error: 0.4168\n",
            "Epoch 385/500\n",
            "1883/1883 [==============================] - 3s 2ms/step - loss: 0.4178 - mean_absolute_error: 0.4178\n",
            "Epoch 386/500\n",
            "1883/1883 [==============================] - 3s 2ms/step - loss: 0.4185 - mean_absolute_error: 0.4185\n",
            "Epoch 387/500\n",
            "1883/1883 [==============================] - 3s 2ms/step - loss: 0.4187 - mean_absolute_error: 0.4187\n",
            "Epoch 388/500\n",
            "1883/1883 [==============================] - 3s 2ms/step - loss: 0.4189 - mean_absolute_error: 0.4189\n",
            "Epoch 389/500\n",
            "1883/1883 [==============================] - 3s 2ms/step - loss: 0.4174 - mean_absolute_error: 0.4174\n",
            "Epoch 390/500\n",
            "1883/1883 [==============================] - 3s 2ms/step - loss: 0.4178 - mean_absolute_error: 0.4178\n",
            "Epoch 391/500\n",
            "1883/1883 [==============================] - 3s 2ms/step - loss: 0.4172 - mean_absolute_error: 0.4172\n",
            "Epoch 392/500\n",
            "1883/1883 [==============================] - 3s 2ms/step - loss: 0.4183 - mean_absolute_error: 0.4183\n",
            "Epoch 393/500\n",
            "1883/1883 [==============================] - 3s 2ms/step - loss: 0.4178 - mean_absolute_error: 0.4178\n",
            "Epoch 394/500\n",
            "1883/1883 [==============================] - 3s 2ms/step - loss: 0.4182 - mean_absolute_error: 0.4182\n",
            "Epoch 395/500\n",
            "1883/1883 [==============================] - 3s 2ms/step - loss: 0.4178 - mean_absolute_error: 0.4178\n",
            "Epoch 396/500\n",
            "1883/1883 [==============================] - 3s 2ms/step - loss: 0.4172 - mean_absolute_error: 0.4172\n",
            "Epoch 397/500\n",
            "1883/1883 [==============================] - 3s 2ms/step - loss: 0.4175 - mean_absolute_error: 0.4175\n",
            "Epoch 398/500\n",
            "1883/1883 [==============================] - 3s 2ms/step - loss: 0.4179 - mean_absolute_error: 0.4179\n",
            "Epoch 399/500\n",
            "1883/1883 [==============================] - 3s 2ms/step - loss: 0.4185 - mean_absolute_error: 0.4185\n",
            "Epoch 400/500\n",
            "1883/1883 [==============================] - 3s 2ms/step - loss: 0.4168 - mean_absolute_error: 0.4168\n",
            "Epoch 401/500\n",
            "1883/1883 [==============================] - 3s 2ms/step - loss: 0.4177 - mean_absolute_error: 0.4177\n",
            "Epoch 402/500\n",
            "1883/1883 [==============================] - 3s 2ms/step - loss: 0.4173 - mean_absolute_error: 0.4173\n",
            "Epoch 403/500\n",
            "1883/1883 [==============================] - 3s 2ms/step - loss: 0.4178 - mean_absolute_error: 0.4178\n",
            "Epoch 404/500\n",
            "1883/1883 [==============================] - 3s 2ms/step - loss: 0.4177 - mean_absolute_error: 0.4177\n",
            "Epoch 405/500\n",
            "1883/1883 [==============================] - 3s 2ms/step - loss: 0.4183 - mean_absolute_error: 0.4183\n",
            "Epoch 406/500\n",
            "1883/1883 [==============================] - 3s 2ms/step - loss: 0.4190 - mean_absolute_error: 0.4190\n",
            "Epoch 407/500\n",
            "1883/1883 [==============================] - 3s 2ms/step - loss: 0.4178 - mean_absolute_error: 0.4178\n",
            "Epoch 408/500\n",
            "1883/1883 [==============================] - 3s 2ms/step - loss: 0.4182 - mean_absolute_error: 0.4182\n",
            "Epoch 409/500\n",
            "1883/1883 [==============================] - 3s 2ms/step - loss: 0.4170 - mean_absolute_error: 0.4170\n",
            "Epoch 410/500\n",
            "1883/1883 [==============================] - 3s 2ms/step - loss: 0.4170 - mean_absolute_error: 0.4170\n",
            "Epoch 411/500\n",
            "1883/1883 [==============================] - 3s 2ms/step - loss: 0.4175 - mean_absolute_error: 0.4175\n",
            "Epoch 412/500\n",
            "1883/1883 [==============================] - 3s 2ms/step - loss: 0.4174 - mean_absolute_error: 0.4174\n",
            "Epoch 413/500\n",
            "1883/1883 [==============================] - 3s 2ms/step - loss: 0.4176 - mean_absolute_error: 0.4176\n",
            "Epoch 414/500\n",
            "1883/1883 [==============================] - 3s 2ms/step - loss: 0.4171 - mean_absolute_error: 0.4171\n",
            "Epoch 415/500\n",
            "1883/1883 [==============================] - 3s 2ms/step - loss: 0.4172 - mean_absolute_error: 0.4172\n",
            "Epoch 416/500\n",
            "1883/1883 [==============================] - 3s 2ms/step - loss: 0.4179 - mean_absolute_error: 0.4179\n",
            "Epoch 417/500\n",
            "1883/1883 [==============================] - 3s 2ms/step - loss: 0.4168 - mean_absolute_error: 0.4168\n",
            "Epoch 418/500\n",
            "1883/1883 [==============================] - 3s 2ms/step - loss: 0.4182 - mean_absolute_error: 0.4182\n",
            "Epoch 419/500\n",
            "1883/1883 [==============================] - 3s 2ms/step - loss: 0.4177 - mean_absolute_error: 0.4177\n",
            "Epoch 420/500\n",
            "1883/1883 [==============================] - 3s 2ms/step - loss: 0.4173 - mean_absolute_error: 0.4173\n",
            "Epoch 421/500\n",
            "1883/1883 [==============================] - 3s 2ms/step - loss: 0.4178 - mean_absolute_error: 0.4178\n",
            "Epoch 422/500\n",
            "1883/1883 [==============================] - 3s 2ms/step - loss: 0.4173 - mean_absolute_error: 0.4173\n",
            "Epoch 423/500\n",
            "1883/1883 [==============================] - 3s 2ms/step - loss: 0.4171 - mean_absolute_error: 0.4171\n",
            "Epoch 424/500\n",
            "1883/1883 [==============================] - 3s 2ms/step - loss: 0.4182 - mean_absolute_error: 0.4182\n",
            "Epoch 425/500\n",
            "1883/1883 [==============================] - 3s 2ms/step - loss: 0.4167 - mean_absolute_error: 0.4167\n",
            "Epoch 426/500\n",
            "1883/1883 [==============================] - 3s 2ms/step - loss: 0.4169 - mean_absolute_error: 0.4169\n",
            "Epoch 427/500\n",
            "1883/1883 [==============================] - 3s 2ms/step - loss: 0.4176 - mean_absolute_error: 0.4176\n",
            "Epoch 428/500\n",
            "1883/1883 [==============================] - 3s 2ms/step - loss: 0.4161 - mean_absolute_error: 0.4161\n",
            "Epoch 429/500\n",
            "1883/1883 [==============================] - 3s 2ms/step - loss: 0.4167 - mean_absolute_error: 0.4167\n",
            "Epoch 430/500\n",
            "1883/1883 [==============================] - 3s 2ms/step - loss: 0.4178 - mean_absolute_error: 0.4178\n",
            "Epoch 431/500\n",
            "1883/1883 [==============================] - 3s 2ms/step - loss: 0.4162 - mean_absolute_error: 0.4162\n",
            "Epoch 432/500\n",
            "1883/1883 [==============================] - 3s 2ms/step - loss: 0.4178 - mean_absolute_error: 0.4178\n",
            "Epoch 433/500\n",
            "1883/1883 [==============================] - 3s 2ms/step - loss: 0.4179 - mean_absolute_error: 0.4179\n",
            "Epoch 434/500\n",
            "1883/1883 [==============================] - 3s 2ms/step - loss: 0.4158 - mean_absolute_error: 0.4158\n",
            "Epoch 435/500\n",
            "1883/1883 [==============================] - 3s 2ms/step - loss: 0.4162 - mean_absolute_error: 0.4162\n",
            "Epoch 436/500\n",
            "1883/1883 [==============================] - 3s 2ms/step - loss: 0.4178 - mean_absolute_error: 0.4178\n",
            "Epoch 437/500\n",
            "1883/1883 [==============================] - 4s 2ms/step - loss: 0.4170 - mean_absolute_error: 0.4170\n",
            "Epoch 438/500\n",
            "1883/1883 [==============================] - 4s 2ms/step - loss: 0.4167 - mean_absolute_error: 0.4167\n",
            "Epoch 439/500\n",
            "1883/1883 [==============================] - 3s 2ms/step - loss: 0.4172 - mean_absolute_error: 0.4172\n",
            "Epoch 440/500\n",
            "1883/1883 [==============================] - 3s 2ms/step - loss: 0.4171 - mean_absolute_error: 0.4171\n",
            "Epoch 441/500\n",
            "1883/1883 [==============================] - 3s 2ms/step - loss: 0.4178 - mean_absolute_error: 0.4178\n",
            "Epoch 442/500\n",
            "1883/1883 [==============================] - 3s 2ms/step - loss: 0.4183 - mean_absolute_error: 0.4183\n",
            "Epoch 443/500\n",
            "1883/1883 [==============================] - 3s 2ms/step - loss: 0.4178 - mean_absolute_error: 0.4178\n",
            "Epoch 444/500\n",
            "1883/1883 [==============================] - 3s 2ms/step - loss: 0.4175 - mean_absolute_error: 0.4175\n",
            "Epoch 445/500\n",
            "1883/1883 [==============================] - 3s 2ms/step - loss: 0.4169 - mean_absolute_error: 0.4169\n",
            "Epoch 446/500\n",
            "1883/1883 [==============================] - 3s 2ms/step - loss: 0.4181 - mean_absolute_error: 0.4181\n",
            "Epoch 447/500\n",
            "1883/1883 [==============================] - 3s 2ms/step - loss: 0.4173 - mean_absolute_error: 0.4173\n",
            "Epoch 448/500\n",
            "1883/1883 [==============================] - 3s 2ms/step - loss: 0.4161 - mean_absolute_error: 0.4161\n",
            "Epoch 449/500\n",
            "1883/1883 [==============================] - 3s 2ms/step - loss: 0.4179 - mean_absolute_error: 0.4179\n",
            "Epoch 450/500\n",
            "1883/1883 [==============================] - 3s 2ms/step - loss: 0.4162 - mean_absolute_error: 0.4162\n",
            "Epoch 451/500\n",
            "1883/1883 [==============================] - 3s 2ms/step - loss: 0.4153 - mean_absolute_error: 0.4153\n",
            "Epoch 452/500\n",
            "1883/1883 [==============================] - 3s 2ms/step - loss: 0.4172 - mean_absolute_error: 0.4172\n",
            "Epoch 453/500\n",
            "1883/1883 [==============================] - 3s 2ms/step - loss: 0.4179 - mean_absolute_error: 0.4179\n",
            "Epoch 454/500\n",
            "1883/1883 [==============================] - 3s 2ms/step - loss: 0.4160 - mean_absolute_error: 0.4160\n",
            "Epoch 455/500\n",
            "1883/1883 [==============================] - 3s 2ms/step - loss: 0.4178 - mean_absolute_error: 0.4178\n",
            "Epoch 456/500\n",
            "1883/1883 [==============================] - 3s 2ms/step - loss: 0.4163 - mean_absolute_error: 0.4163\n",
            "Epoch 457/500\n",
            "1883/1883 [==============================] - 3s 2ms/step - loss: 0.4172 - mean_absolute_error: 0.4172\n",
            "Epoch 458/500\n",
            "1883/1883 [==============================] - 3s 2ms/step - loss: 0.4172 - mean_absolute_error: 0.4172\n",
            "Epoch 459/500\n",
            "1883/1883 [==============================] - 3s 2ms/step - loss: 0.4178 - mean_absolute_error: 0.4178\n",
            "Epoch 460/500\n",
            "1883/1883 [==============================] - 3s 2ms/step - loss: 0.4173 - mean_absolute_error: 0.4173\n",
            "Epoch 461/500\n",
            "1883/1883 [==============================] - 3s 2ms/step - loss: 0.4163 - mean_absolute_error: 0.4163\n",
            "Epoch 462/500\n",
            "1883/1883 [==============================] - 3s 2ms/step - loss: 0.4179 - mean_absolute_error: 0.4179\n",
            "Epoch 463/500\n",
            "1883/1883 [==============================] - 3s 2ms/step - loss: 0.4169 - mean_absolute_error: 0.4169\n",
            "Epoch 464/500\n",
            "1883/1883 [==============================] - 3s 2ms/step - loss: 0.4162 - mean_absolute_error: 0.4162\n",
            "Epoch 465/500\n",
            "1883/1883 [==============================] - 3s 2ms/step - loss: 0.4170 - mean_absolute_error: 0.4170\n",
            "Epoch 466/500\n",
            "1883/1883 [==============================] - 3s 2ms/step - loss: 0.4172 - mean_absolute_error: 0.4172\n",
            "Epoch 467/500\n",
            "1883/1883 [==============================] - 3s 2ms/step - loss: 0.4171 - mean_absolute_error: 0.4171\n",
            "Epoch 468/500\n",
            "1883/1883 [==============================] - 3s 2ms/step - loss: 0.4165 - mean_absolute_error: 0.4165\n",
            "Epoch 469/500\n",
            "1883/1883 [==============================] - 3s 2ms/step - loss: 0.4173 - mean_absolute_error: 0.4173\n",
            "Epoch 470/500\n",
            "1883/1883 [==============================] - 3s 2ms/step - loss: 0.4166 - mean_absolute_error: 0.4166\n",
            "Epoch 471/500\n",
            "1883/1883 [==============================] - 3s 2ms/step - loss: 0.4165 - mean_absolute_error: 0.4165\n",
            "Epoch 472/500\n",
            "1883/1883 [==============================] - 3s 2ms/step - loss: 0.4161 - mean_absolute_error: 0.4161\n",
            "Epoch 473/500\n",
            "1883/1883 [==============================] - 3s 2ms/step - loss: 0.4159 - mean_absolute_error: 0.4159\n",
            "Epoch 474/500\n",
            "1883/1883 [==============================] - 3s 2ms/step - loss: 0.4181 - mean_absolute_error: 0.4181\n",
            "Epoch 475/500\n",
            "1883/1883 [==============================] - 3s 2ms/step - loss: 0.4166 - mean_absolute_error: 0.4166\n",
            "Epoch 476/500\n",
            "1883/1883 [==============================] - 3s 2ms/step - loss: 0.4163 - mean_absolute_error: 0.4163\n",
            "Epoch 477/500\n",
            "1883/1883 [==============================] - 3s 2ms/step - loss: 0.4172 - mean_absolute_error: 0.4172\n",
            "Epoch 478/500\n",
            "1883/1883 [==============================] - 3s 2ms/step - loss: 0.4169 - mean_absolute_error: 0.4169\n",
            "Epoch 479/500\n",
            "1883/1883 [==============================] - 3s 2ms/step - loss: 0.4164 - mean_absolute_error: 0.4164\n",
            "Epoch 480/500\n",
            "1883/1883 [==============================] - 3s 2ms/step - loss: 0.4162 - mean_absolute_error: 0.4162\n",
            "Epoch 481/500\n",
            "1883/1883 [==============================] - 3s 2ms/step - loss: 0.4159 - mean_absolute_error: 0.4159\n",
            "Epoch 482/500\n",
            "1883/1883 [==============================] - 3s 2ms/step - loss: 0.4163 - mean_absolute_error: 0.4163\n",
            "Epoch 483/500\n",
            "1883/1883 [==============================] - 3s 2ms/step - loss: 0.4166 - mean_absolute_error: 0.4166\n",
            "Epoch 484/500\n",
            "1883/1883 [==============================] - 3s 2ms/step - loss: 0.4159 - mean_absolute_error: 0.4159\n",
            "Epoch 485/500\n",
            "1883/1883 [==============================] - 3s 2ms/step - loss: 0.4169 - mean_absolute_error: 0.4169\n",
            "Epoch 486/500\n",
            "1883/1883 [==============================] - 3s 2ms/step - loss: 0.4164 - mean_absolute_error: 0.4164\n",
            "Epoch 487/500\n",
            "1883/1883 [==============================] - 3s 2ms/step - loss: 0.4169 - mean_absolute_error: 0.4169\n",
            "Epoch 488/500\n",
            "1883/1883 [==============================] - 3s 2ms/step - loss: 0.4165 - mean_absolute_error: 0.4165\n",
            "Epoch 489/500\n",
            "1883/1883 [==============================] - 3s 2ms/step - loss: 0.4159 - mean_absolute_error: 0.4159\n",
            "Epoch 490/500\n",
            "1883/1883 [==============================] - 3s 2ms/step - loss: 0.4152 - mean_absolute_error: 0.4152\n",
            "Epoch 491/500\n",
            "1883/1883 [==============================] - 3s 2ms/step - loss: 0.4169 - mean_absolute_error: 0.4169\n",
            "Epoch 492/500\n",
            "1883/1883 [==============================] - 3s 2ms/step - loss: 0.4168 - mean_absolute_error: 0.4168\n",
            "Epoch 493/500\n",
            "1883/1883 [==============================] - 3s 2ms/step - loss: 0.4164 - mean_absolute_error: 0.4164\n",
            "Epoch 494/500\n",
            "1883/1883 [==============================] - 3s 2ms/step - loss: 0.4183 - mean_absolute_error: 0.4183\n",
            "Epoch 495/500\n",
            "1883/1883 [==============================] - 3s 2ms/step - loss: 0.4162 - mean_absolute_error: 0.4162\n",
            "Epoch 496/500\n",
            "1883/1883 [==============================] - 3s 2ms/step - loss: 0.4167 - mean_absolute_error: 0.4167\n",
            "Epoch 497/500\n",
            "1883/1883 [==============================] - 3s 2ms/step - loss: 0.4165 - mean_absolute_error: 0.4165\n",
            "Epoch 498/500\n",
            "1883/1883 [==============================] - 3s 2ms/step - loss: 0.4162 - mean_absolute_error: 0.4162\n",
            "Epoch 499/500\n",
            "1883/1883 [==============================] - 3s 2ms/step - loss: 0.4161 - mean_absolute_error: 0.4161\n",
            "Epoch 500/500\n",
            "1883/1883 [==============================] - 3s 2ms/step - loss: 0.4162 - mean_absolute_error: 0.4162\n"
          ]
        },
        {
          "output_type": "execute_result",
          "data": {
            "text/plain": [
              "<keras.callbacks.History at 0x7ff12accd0a0>"
            ]
          },
          "metadata": {},
          "execution_count": 59
        }
      ]
    },
    {
      "cell_type": "code",
      "source": [
        "y_pred_best = regressor_best.predict((X_test))"
      ],
      "metadata": {
        "colab": {
          "base_uri": "https://localhost:8080/"
        },
        "id": "RBZBrbh_xLU-",
        "outputId": "7896be35-4f9a-4d51-9b93-4ad3523c2060"
      },
      "execution_count": 60,
      "outputs": [
        {
          "output_type": "stream",
          "name": "stdout",
          "text": [
            "59/59 [==============================] - 0s 1ms/step\n"
          ]
        }
      ]
    },
    {
      "cell_type": "code",
      "source": [
        "# RMSE\n",
        "mean_squared_error(y_test, y_pred_best, squared=False)"
      ],
      "metadata": {
        "colab": {
          "base_uri": "https://localhost:8080/"
        },
        "id": "wkzUzu2CwV8o",
        "outputId": "4e24ba22-09b7-497a-eeb5-be56cf411e73"
      },
      "execution_count": 61,
      "outputs": [
        {
          "output_type": "execute_result",
          "data": {
            "text/plain": [
              "0.5694691402730186"
            ]
          },
          "metadata": {},
          "execution_count": 61
        }
      ]
    },
    {
      "cell_type": "code",
      "source": [
        "# MAE\n",
        "mae_ann_best = mean_absolute_error(y_test, y_pred_best)\n",
        "mae_ann_best"
      ],
      "metadata": {
        "colab": {
          "base_uri": "https://localhost:8080/"
        },
        "id": "Xzn-Qu8LxNko",
        "outputId": "f917072e-625f-41b6-d320-21621088ca02"
      },
      "execution_count": 62,
      "outputs": [
        {
          "output_type": "execute_result",
          "data": {
            "text/plain": [
              "0.41544645132185354"
            ]
          },
          "metadata": {},
          "execution_count": 62
        }
      ]
    },
    {
      "cell_type": "markdown",
      "source": [
        "### XGBoost  (mae: 0.411, rmse: 0.551)"
      ],
      "metadata": {
        "id": "gxtU_R6LW0Mw"
      }
    },
    {
      "cell_type": "code",
      "source": [
        "import xgboost as xg\n",
        "from sklearn.model_selection import KFold\n",
        "from sklearn.model_selection import cross_val_score\n",
        "from sklearn.metrics import mean_squared_error\n",
        "from sklearn.metrics import r2_score"
      ],
      "metadata": {
        "id": "Q2pqVQHJzHWK"
      },
      "execution_count": 45,
      "outputs": []
    },
    {
      "cell_type": "code",
      "source": [
        "xgb_r = xg.XGBRegressor(objective ='reg:linear', learning_rate = 0.1,\n",
        "                max_depth = 10, alpha = 5, n_estimators = 40)"
      ],
      "metadata": {
        "id": "ZDTZmh5EzQsu"
      },
      "execution_count": 46,
      "outputs": []
    },
    {
      "cell_type": "code",
      "source": [
        "xgb_r.fit(X_train, y_train)"
      ],
      "metadata": {
        "colab": {
          "base_uri": "https://localhost:8080/"
        },
        "id": "CudHo0CfzTbL",
        "outputId": "dda66612-bddb-4bbf-9a25-c29626e5f579"
      },
      "execution_count": 47,
      "outputs": [
        {
          "output_type": "stream",
          "name": "stdout",
          "text": [
            "[06:55:18] WARNING: /workspace/src/objective/regression_obj.cu:152: reg:linear is now deprecated in favor of reg:squarederror.\n"
          ]
        },
        {
          "output_type": "execute_result",
          "data": {
            "text/plain": [
              "XGBRegressor(alpha=5, max_depth=10, n_estimators=40)"
            ]
          },
          "metadata": {},
          "execution_count": 47
        }
      ]
    },
    {
      "cell_type": "code",
      "source": [
        "kfold = KFold(n_splits=10, random_state=7, shuffle=True)\n",
        "results = cross_val_score(xgb_r, X_train, y_train, cv=kfold)"
      ],
      "metadata": {
        "colab": {
          "base_uri": "https://localhost:8080/"
        },
        "id": "NlmzRR88zZYc",
        "outputId": "ab0fdd96-a727-41af-c0bf-a920bbcd8265"
      },
      "execution_count": 48,
      "outputs": [
        {
          "output_type": "stream",
          "name": "stdout",
          "text": [
            "[06:55:21] WARNING: /workspace/src/objective/regression_obj.cu:152: reg:linear is now deprecated in favor of reg:squarederror.\n",
            "[06:55:22] WARNING: /workspace/src/objective/regression_obj.cu:152: reg:linear is now deprecated in favor of reg:squarederror.\n",
            "[06:55:23] WARNING: /workspace/src/objective/regression_obj.cu:152: reg:linear is now deprecated in favor of reg:squarederror.\n",
            "[06:55:24] WARNING: /workspace/src/objective/regression_obj.cu:152: reg:linear is now deprecated in favor of reg:squarederror.\n",
            "[06:55:25] WARNING: /workspace/src/objective/regression_obj.cu:152: reg:linear is now deprecated in favor of reg:squarederror.\n",
            "[06:55:26] WARNING: /workspace/src/objective/regression_obj.cu:152: reg:linear is now deprecated in favor of reg:squarederror.\n",
            "[06:55:27] WARNING: /workspace/src/objective/regression_obj.cu:152: reg:linear is now deprecated in favor of reg:squarederror.\n",
            "[06:55:28] WARNING: /workspace/src/objective/regression_obj.cu:152: reg:linear is now deprecated in favor of reg:squarederror.\n",
            "[06:55:29] WARNING: /workspace/src/objective/regression_obj.cu:152: reg:linear is now deprecated in favor of reg:squarederror.\n",
            "[06:55:30] WARNING: /workspace/src/objective/regression_obj.cu:152: reg:linear is now deprecated in favor of reg:squarederror.\n"
          ]
        }
      ]
    },
    {
      "cell_type": "code",
      "source": [
        "results"
      ],
      "metadata": {
        "colab": {
          "base_uri": "https://localhost:8080/"
        },
        "id": "a-W_nikB2ptH",
        "outputId": "c6928b54-5600-4b5b-a725-9d0e76191ceb"
      },
      "execution_count": 49,
      "outputs": [
        {
          "output_type": "execute_result",
          "data": {
            "text/plain": [
              "array([ 0.15822835,  0.07495252,  0.00490484,  0.0350335 , -0.10703811,\n",
              "        0.14486233, -0.11713581,  0.16703659,  0.17426022, -0.01660831])"
            ]
          },
          "metadata": {},
          "execution_count": 49
        }
      ]
    },
    {
      "cell_type": "code",
      "source": [
        "y_test_pred = np.round(xgb_r.predict(X_test), 2)"
      ],
      "metadata": {
        "id": "hgBUj1yTzlSx"
      },
      "execution_count": 50,
      "outputs": []
    },
    {
      "cell_type": "code",
      "source": [
        "mae_xg = mean_absolute_error(y_test, y_test_pred)\n",
        "mae_xg"
      ],
      "metadata": {
        "colab": {
          "base_uri": "https://localhost:8080/"
        },
        "id": "W4lTN_eR4f3D",
        "outputId": "9a1dfced-7d8b-4ab9-8334-9505fe5a5058"
      },
      "execution_count": 51,
      "outputs": [
        {
          "output_type": "execute_result",
          "data": {
            "text/plain": [
              "0.4119649476949294"
            ]
          },
          "metadata": {},
          "execution_count": 51
        }
      ]
    },
    {
      "cell_type": "code",
      "source": [
        "mse = mean_squared_error(y_test, y_test_pred)\n",
        "mse"
      ],
      "metadata": {
        "colab": {
          "base_uri": "https://localhost:8080/"
        },
        "id": "xGJBdHVq0hAH",
        "outputId": "a1f85ddf-0f4e-4987-dc07-73b8363a57c2"
      },
      "execution_count": 52,
      "outputs": [
        {
          "output_type": "execute_result",
          "data": {
            "text/plain": [
              "0.30423074592474675"
            ]
          },
          "metadata": {},
          "execution_count": 52
        }
      ]
    },
    {
      "cell_type": "code",
      "source": [
        "r2 = r2_score(y_test, y_test_pred)\n",
        "r2"
      ],
      "metadata": {
        "colab": {
          "base_uri": "https://localhost:8080/"
        },
        "id": "A299HwGN2I1g",
        "outputId": "c4a38fe9-0c41-4d11-afdb-bbc597aecef9"
      },
      "execution_count": 53,
      "outputs": [
        {
          "output_type": "execute_result",
          "data": {
            "text/plain": [
              "0.11306111023877985"
            ]
          },
          "metadata": {},
          "execution_count": 53
        }
      ]
    },
    {
      "cell_type": "code",
      "source": [
        "mean_squared_error(y_test, y_test_pred, squared=False)"
      ],
      "metadata": {
        "colab": {
          "base_uri": "https://localhost:8080/"
        },
        "id": "u8vqPaEb9ckm",
        "outputId": "105bced5-f717-48c2-9525-647767a7b045"
      },
      "execution_count": 54,
      "outputs": [
        {
          "output_type": "execute_result",
          "data": {
            "text/plain": [
              "0.5515711612518794"
            ]
          },
          "metadata": {},
          "execution_count": 54
        }
      ]
    },
    {
      "cell_type": "code",
      "source": [
        "y_test_pred[0]"
      ],
      "metadata": {
        "colab": {
          "base_uri": "https://localhost:8080/"
        },
        "id": "fiaJ63ul-mFy",
        "outputId": "ef47a5d6-8f57-4aee-a165-e67ddfd3a3c7"
      },
      "execution_count": 55,
      "outputs": [
        {
          "output_type": "execute_result",
          "data": {
            "text/plain": [
              "6.91"
            ]
          },
          "metadata": {},
          "execution_count": 55
        }
      ]
    },
    {
      "cell_type": "code",
      "source": [
        "y_test[0]"
      ],
      "metadata": {
        "colab": {
          "base_uri": "https://localhost:8080/"
        },
        "id": "bgYkoSq0-olI",
        "outputId": "3c4e362f-0c42-4f6d-ffa6-dc41a53faaef"
      },
      "execution_count": 56,
      "outputs": [
        {
          "output_type": "execute_result",
          "data": {
            "text/plain": [
              "6.19"
            ]
          },
          "metadata": {},
          "execution_count": 56
        }
      ]
    },
    {
      "cell_type": "code",
      "source": [
        "# !!!!!!!!!!!!!!! confirm if its needed !!!!!!!!!!!!!!! \n",
        "from sklearn.metrics import accuracy_score\n",
        "accuracy = accuracy_score(np.round(y_test), np.round(y_test_pred))\n",
        "accuracy "
      ],
      "metadata": {
        "colab": {
          "base_uri": "https://localhost:8080/"
        },
        "id": "emRtxh62HZmZ",
        "outputId": "98bbe6eb-8d15-462e-e30c-44d32c851249"
      },
      "execution_count": 69,
      "outputs": [
        {
          "output_type": "execute_result",
          "data": {
            "text/plain": [
              "0.6250663834306956"
            ]
          },
          "metadata": {},
          "execution_count": 69
        }
      ]
    },
    {
      "cell_type": "markdown",
      "source": [
        "\n",
        "\n",
        "---\n",
        "\n"
      ],
      "metadata": {
        "id": "3_d87kpW9Ght"
      }
    },
    {
      "cell_type": "markdown",
      "source": [
        "### Neural Network (mae: 0.432, rmse: ) Extra implementation"
      ],
      "metadata": {
        "id": "K9vy6qc29HYz"
      }
    },
    {
      "cell_type": "code",
      "source": [
        "import keras\n",
        "from keras.models import Sequential\n",
        "from keras.layers import Dense\n",
        "from keras.layers import Dropout\n",
        "from sklearn.metrics import r2_score\n",
        "from sklearn.metrics import mean_squared_error"
      ],
      "metadata": {
        "id": "jr2u1W_VAAmZ"
      },
      "execution_count": 63,
      "outputs": []
    },
    {
      "cell_type": "code",
      "source": [
        "model = Sequential()\n",
        "model.add(Dense(4, input_dim =47, activation='relu'))\n",
        "model.add(Dense(4, activation='relu'))\n",
        "model.add(Dense(1, activation='linear'))\n",
        "model.compile(loss='mse', optimizer='adam')\n",
        "model.fit(X_train, y_train, epochs=1000, verbose=0)"
      ],
      "metadata": {
        "colab": {
          "base_uri": "https://localhost:8080/"
        },
        "id": "esvfOsiXBVip",
        "outputId": "8520e6e3-80e9-4160-afa6-6d00d2fb26f3"
      },
      "execution_count": 64,
      "outputs": [
        {
          "output_type": "execute_result",
          "data": {
            "text/plain": [
              "<keras.callbacks.History at 0x7ff1238f60a0>"
            ]
          },
          "metadata": {},
          "execution_count": 64
        }
      ]
    },
    {
      "cell_type": "code",
      "source": [
        "y_test_pred = model.predict(X_test)"
      ],
      "metadata": {
        "colab": {
          "base_uri": "https://localhost:8080/"
        },
        "id": "gO9iY3_iBgbp",
        "outputId": "567ea3e7-0ebe-49a7-b738-1907eb919b70"
      },
      "execution_count": 65,
      "outputs": [
        {
          "output_type": "stream",
          "name": "stdout",
          "text": [
            "59/59 [==============================] - 0s 1ms/step\n"
          ]
        }
      ]
    },
    {
      "cell_type": "code",
      "source": [
        "# MAE\n",
        "mae_nn = mean_absolute_error(y_test, y_test_pred)\n",
        "mae_nn"
      ],
      "metadata": {
        "colab": {
          "base_uri": "https://localhost:8080/"
        },
        "id": "i8MMGp9t5D5V",
        "outputId": "e55b2d5b-d0df-48ca-a42a-81283744f6c6"
      },
      "execution_count": 66,
      "outputs": [
        {
          "output_type": "execute_result",
          "data": {
            "text/plain": [
              "0.42762446926682157"
            ]
          },
          "metadata": {},
          "execution_count": 66
        }
      ]
    },
    {
      "cell_type": "code",
      "source": [
        "mse = mean_squared_error(y_test, y_test_pred)\n",
        "mse"
      ],
      "metadata": {
        "colab": {
          "base_uri": "https://localhost:8080/"
        },
        "id": "he--uH7OBi6S",
        "outputId": "be457bb8-55a9-44ee-fdf6-dd38c93b4f7a"
      },
      "execution_count": 67,
      "outputs": [
        {
          "output_type": "execute_result",
          "data": {
            "text/plain": [
              "0.31724002134734197"
            ]
          },
          "metadata": {},
          "execution_count": 67
        }
      ]
    },
    {
      "cell_type": "code",
      "source": [
        "r2 = r2_score(y_test, y_test_pred)\n",
        "r2"
      ],
      "metadata": {
        "colab": {
          "base_uri": "https://localhost:8080/"
        },
        "id": "IgH14d1yBlJi",
        "outputId": "69b5f495-2a7e-4022-e905-9ffdd5bdad7a"
      },
      "execution_count": 68,
      "outputs": [
        {
          "output_type": "execute_result",
          "data": {
            "text/plain": [
              "0.0751345283450201"
            ]
          },
          "metadata": {},
          "execution_count": 68
        }
      ]
    },
    {
      "cell_type": "code",
      "source": [
        "mean_squared_error(y_test, y_test_pred, squared=False)"
      ],
      "metadata": {
        "colab": {
          "base_uri": "https://localhost:8080/"
        },
        "id": "8ZWEC30eBnDk",
        "outputId": "5044b672-0ff1-4833-9074-a89488c040c6"
      },
      "execution_count": 69,
      "outputs": [
        {
          "output_type": "execute_result",
          "data": {
            "text/plain": [
              "0.5632406424853785"
            ]
          },
          "metadata": {},
          "execution_count": 69
        }
      ]
    },
    {
      "cell_type": "code",
      "source": [
        "# !!!!!!!!!!!!!!! confirm if its needed !!!!!!!!!!!!!!! \n",
        "from sklearn.metrics import accuracy_score\n",
        "accuracy = accuracy_score(np.round(y_test), np.round(y_test_pred))\n",
        "accuracy "
      ],
      "metadata": {
        "colab": {
          "base_uri": "https://localhost:8080/"
        },
        "id": "CQUdqSnzBn6B",
        "outputId": "d7684483-2e8d-4d43-cf46-81661dc458bf"
      },
      "execution_count": 77,
      "outputs": [
        {
          "output_type": "execute_result",
          "data": {
            "text/plain": [
              "0.6213489113117366"
            ]
          },
          "metadata": {},
          "execution_count": 77
        }
      ]
    }
  ]
}